{
 "cells": [
  {
   "cell_type": "code",
   "execution_count": null,
   "metadata": {},
   "outputs": [],
   "source": []
  },
  {
   "cell_type": "code",
   "execution_count": 86,
   "metadata": {},
   "outputs": [],
   "source": [
    "import numpy as np\n",
    "import pandas as pd\n",
    "import matplotlib.pyplot as plt\n",
    "from keras.models import Model,Sequential\n",
    "from keras.layers import Dense,Input\n",
    "from keras.optimizers import Adam,RMSprop\n",
    "from keras.utils import np_utils\n"
   ]
  },
  {
   "cell_type": "code",
   "execution_count": 87,
   "metadata": {},
   "outputs": [],
   "source": [
    "data=pd.read_csv(\"./fashion-mnist_test.csv\")"
   ]
  },
  {
   "cell_type": "code",
   "execution_count": 88,
   "metadata": {},
   "outputs": [
    {
     "name": "stdout",
     "output_type": "stream",
     "text": [
      "(10000, 784) (10000, 10)\n"
     ]
    }
   ],
   "source": [
    "\n",
    "x = data.values\n",
    "X = x[:,1:]\n",
    "y = x[:,0]\n",
    "X=X/(255.0)\n",
    "\n",
    "\n",
    "y = np_utils.to_categorical(y)\n",
    "print (X.shape, y.shape)"
   ]
  },
  {
   "cell_type": "code",
   "execution_count": 89,
   "metadata": {},
   "outputs": [
    {
     "name": "stdout",
     "output_type": "stream",
     "text": [
      "(8000, 784) (8000, 10)\n"
     ]
    }
   ],
   "source": [
    "X_train=X[:8000,:]\n",
    "\n",
    "Y_train=y[:8000,:]\n",
    "\n",
    "X_test=X[8000:,:]\n",
    "Y_test=y[8000:,:]\n",
    "\n",
    "print(X_train.shape,Y_train.shape)"
   ]
  },
  {
   "cell_type": "code",
   "execution_count": 90,
   "metadata": {},
   "outputs": [
    {
     "name": "stdout",
     "output_type": "stream",
     "text": [
      "_________________________________________________________________\n",
      "Layer (type)                 Output Shape              Param #   \n",
      "=================================================================\n",
      "dense_45 (Dense)             (None, 256)               200960    \n",
      "_________________________________________________________________\n",
      "dense_46 (Dense)             (None, 128)               32896     \n",
      "_________________________________________________________________\n",
      "dense_47 (Dense)             (None, 64)                8256      \n",
      "_________________________________________________________________\n",
      "dense_48 (Dense)             (None, 10)                650       \n",
      "=================================================================\n",
      "Total params: 242,762\n",
      "Trainable params: 242,762\n",
      "Non-trainable params: 0\n",
      "_________________________________________________________________\n"
     ]
    }
   ],
   "source": [
    "model=Sequential()\n",
    "model.add(Dense(256, activation='relu', input_shape=(784,)))\n",
    "model.add(Dense(128,activation='relu'))\n",
    "model.add(Dense(64,activation='relu'))\n",
    "model.add(Dense(10,activation='softmax'))\n",
    "\n",
    "model.summary()\n"
   ]
  },
  {
   "cell_type": "code",
   "execution_count": 91,
   "metadata": {},
   "outputs": [],
   "source": [
    "adam=Adam(lr=0.01)\n"
   ]
  },
  {
   "cell_type": "code",
   "execution_count": 92,
   "metadata": {},
   "outputs": [],
   "source": [
    "model.compile(loss='categorical_crossentropy', optimizer=adam, metrics=['accuracy'])"
   ]
  },
  {
   "cell_type": "code",
   "execution_count": 97,
   "metadata": {},
   "outputs": [
    {
     "name": "stdout",
     "output_type": "stream",
     "text": [
      "Train on 8000 samples, validate on 2000 samples\n",
      "Epoch 1/25\n",
      "8000/8000 [==============================] - 0s 19us/step - loss: 0.3290 - acc: 0.8811 - val_loss: 0.4500 - val_acc: 0.8420\n",
      "Epoch 2/25\n",
      "8000/8000 [==============================] - 0s 17us/step - loss: 0.3476 - acc: 0.8724 - val_loss: 0.3918 - val_acc: 0.8655\n",
      "Epoch 3/25\n",
      "8000/8000 [==============================] - 0s 16us/step - loss: 0.2963 - acc: 0.8872 - val_loss: 0.4315 - val_acc: 0.8500\n",
      "Epoch 4/25\n",
      "8000/8000 [==============================] - 0s 16us/step - loss: 0.3001 - acc: 0.8891 - val_loss: 0.4622 - val_acc: 0.8445\n",
      "Epoch 5/25\n",
      "8000/8000 [==============================] - 0s 16us/step - loss: 0.2840 - acc: 0.8952 - val_loss: 0.3975 - val_acc: 0.8665\n",
      "Epoch 6/25\n",
      "8000/8000 [==============================] - 0s 16us/step - loss: 0.2516 - acc: 0.9065 - val_loss: 0.3881 - val_acc: 0.8695\n",
      "Epoch 7/25\n",
      "8000/8000 [==============================] - 0s 16us/step - loss: 0.2549 - acc: 0.9026 - val_loss: 0.4444 - val_acc: 0.8440\n",
      "Epoch 8/25\n",
      "8000/8000 [==============================] - 0s 17us/step - loss: 0.2536 - acc: 0.9026 - val_loss: 0.4239 - val_acc: 0.8585\n",
      "Epoch 9/25\n",
      "8000/8000 [==============================] - 0s 16us/step - loss: 0.2468 - acc: 0.9083 - val_loss: 0.4473 - val_acc: 0.8595\n",
      "Epoch 10/25\n",
      "8000/8000 [==============================] - 0s 17us/step - loss: 0.2421 - acc: 0.9065 - val_loss: 0.4275 - val_acc: 0.8655\n",
      "Epoch 11/25\n",
      "8000/8000 [==============================] - 0s 16us/step - loss: 0.2304 - acc: 0.9114 - val_loss: 0.4074 - val_acc: 0.8630\n",
      "Epoch 12/25\n",
      "8000/8000 [==============================] - 0s 17us/step - loss: 0.2134 - acc: 0.9196 - val_loss: 0.4218 - val_acc: 0.8680\n",
      "Epoch 13/25\n",
      "8000/8000 [==============================] - 0s 16us/step - loss: 0.1970 - acc: 0.9231 - val_loss: 0.4697 - val_acc: 0.8515\n",
      "Epoch 14/25\n",
      "8000/8000 [==============================] - 0s 17us/step - loss: 0.2141 - acc: 0.9149 - val_loss: 0.4438 - val_acc: 0.8615\n",
      "Epoch 15/25\n",
      "8000/8000 [==============================] - 0s 16us/step - loss: 0.1888 - acc: 0.9244 - val_loss: 0.4494 - val_acc: 0.8600\n",
      "Epoch 16/25\n",
      "8000/8000 [==============================] - 0s 16us/step - loss: 0.1775 - acc: 0.9310 - val_loss: 0.4812 - val_acc: 0.8565\n",
      "Epoch 17/25\n",
      "8000/8000 [==============================] - 0s 17us/step - loss: 0.1726 - acc: 0.9330 - val_loss: 0.4638 - val_acc: 0.8625\n",
      "Epoch 18/25\n",
      "8000/8000 [==============================] - 0s 17us/step - loss: 0.1645 - acc: 0.9385 - val_loss: 0.4635 - val_acc: 0.8645\n",
      "Epoch 19/25\n",
      "8000/8000 [==============================] - 0s 17us/step - loss: 0.1556 - acc: 0.9409 - val_loss: 0.5091 - val_acc: 0.8625\n",
      "Epoch 20/25\n",
      "8000/8000 [==============================] - 0s 19us/step - loss: 0.1618 - acc: 0.9381 - val_loss: 0.5480 - val_acc: 0.8545\n",
      "Epoch 21/25\n",
      "8000/8000 [==============================] - 0s 19us/step - loss: 0.2030 - acc: 0.9269 - val_loss: 0.5030 - val_acc: 0.8530\n",
      "Epoch 22/25\n",
      "8000/8000 [==============================] - 0s 19us/step - loss: 0.1997 - acc: 0.9261 - val_loss: 0.4863 - val_acc: 0.8470\n",
      "Epoch 23/25\n",
      "8000/8000 [==============================] - 0s 18us/step - loss: 0.1608 - acc: 0.9409 - val_loss: 0.4587 - val_acc: 0.8650\n",
      "Epoch 24/25\n",
      "8000/8000 [==============================] - 0s 18us/step - loss: 0.1726 - acc: 0.9336 - val_loss: 0.4502 - val_acc: 0.8635\n",
      "Epoch 25/25\n",
      "8000/8000 [==============================] - 0s 18us/step - loss: 0.1454 - acc: 0.9471 - val_loss: 0.4895 - val_acc: 0.8630\n"
     ]
    }
   ],
   "source": [
    "history=model.fit(X_train,Y_train,epochs=25,batch_size=400,shuffle=True,validation_data=(X_test,Y_test))"
   ]
  },
  {
   "cell_type": "code",
   "execution_count": 98,
   "metadata": {},
   "outputs": [
    {
     "data": {
      "text/plain": [
       "<function matplotlib.pyplot.figure(num=None, figsize=None, dpi=None, facecolor=None, edgecolor=None, frameon=True, FigureClass=<class 'matplotlib.figure.Figure'>, clear=False, **kwargs)>"
      ]
     },
     "execution_count": 98,
     "metadata": {},
     "output_type": "execute_result"
    },
    {
     "data": {
      "image/png": "[encoded data removed]",
      "text/plain": [
       "<Figure size 432x288 with 1 Axes>"
      ]
     },
     "metadata": {
      "needs_background": "light"
     },
     "output_type": "display_data"
    }
   ],
   "source": [
    "plt.plot(history.history['loss'],color='red')\n",
    "plt.plot(history.history['acc'],color='yellow')\n",
    "plt.plot(history.history['val_loss'],color='black')\n",
    "plt.figure"
   ]
  },
  {
   "cell_type": "code",
   "execution_count": null,
   "metadata": {},
   "outputs": [],
   "source": []
  }
 ],
 "metadata": {
  "kernelspec": {
   "display_name": "Python 3",
   "language": "python",
   "name": "python3"
  },
  "language_info": {
   "codemirror_mode": {
    "name": "ipython",
    "version": 3
   },
   "file_extension": ".py",
   "mimetype": "text/x-python",
   "name": "python",
   "nbconvert_exporter": "python",
   "pygments_lexer": "ipython3",
   "version": "3.6.8"
  }
 },
 "nbformat": 4,
 "nbformat_minor": 2
}
