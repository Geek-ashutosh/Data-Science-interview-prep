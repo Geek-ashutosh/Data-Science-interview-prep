{
 "cells": [
  {
   "cell_type": "code",
   "execution_count": 10,
   "metadata": {},
   "outputs": [],
   "source": [
    "import matplotlib.pyplot as plt\n",
    "import pandas as pd\n",
    "import numpy as np\n",
    "from keras.models import Model,Sequential\n",
    "from keras.layers import Dense,Input,Flatten,LeakyReLU\n",
    "from keras.activations import relu,softmax,tanh,sigmoid\n",
    "from sklearn.model_selection import train_test_split\n",
    "from keras.applications.resnet50 import ResNet50\n",
    "from keras.optimizers import Adam\n",
    "from keras.utils import np_utils\n"
   ]
  },
  {
   "cell_type": "code",
   "execution_count": 11,
   "metadata": {},
   "outputs": [],
   "source": [
    "data=pd.read_csv(\"./musk_csv - musk_csv.csv\")"
   ]
  },
  {
   "cell_type": "code",
   "execution_count": 12,
   "metadata": {},
   "outputs": [],
   "source": [
    "x = data.values\n",
    "X = x[:,3:168]\n",
    "y = x[:,169]\n",
    "\n",
    "y=np_utils.to_categorical(y)\n",
    "\n",
    "\n"
   ]
  },
  {
   "cell_type": "code",
   "execution_count": 13,
   "metadata": {},
   "outputs": [
    {
     "name": "stdout",
     "output_type": "stream",
     "text": [
      "(5278, 165)\n"
     ]
    }
   ],
   "source": [
    "X_train,X_test,y_train,y_test=train_test_split(X,y,test_size=0.2)\n",
    "\n",
    "print(X_train.shape)"
   ]
  },
  {
   "cell_type": "code",
   "execution_count": 14,
   "metadata": {},
   "outputs": [
    {
     "name": "stdout",
     "output_type": "stream",
     "text": [
      "_________________________________________________________________\n",
      "Layer (type)                 Output Shape              Param #   \n",
      "=================================================================\n",
      "dense_4 (Dense)              (None, 256)               42496     \n",
      "_________________________________________________________________\n",
      "dense_5 (Dense)              (None, 64)                16448     \n",
      "_________________________________________________________________\n",
      "dense_6 (Dense)              (None, 2)                 130       \n",
      "=================================================================\n",
      "Total params: 59,074\n",
      "Trainable params: 59,074\n",
      "Non-trainable params: 0\n",
      "_________________________________________________________________\n"
     ]
    }
   ],
   "source": [
    "\n",
    "model=Sequential()\n",
    "model.add(Dense(256, activation='tanh', input_shape=(165,)))\n",
    "model.add(Dense(64, activation='relu'))\n",
    "model.add(Dense(2, activation='sigmoid'))\n",
    "\n",
    "model.summary()"
   ]
  },
  {
   "cell_type": "code",
   "execution_count": 15,
   "metadata": {},
   "outputs": [],
   "source": [
    "model.compile(loss='binary_crossentropy',optimizer=Adam(lr=0.0001),metrics=['accuracy'])"
   ]
  },
  {
   "cell_type": "code",
   "execution_count": 16,
   "metadata": {},
   "outputs": [
    {
     "name": "stdout",
     "output_type": "stream",
     "text": [
      "Train on 5278 samples, validate on 1320 samples\n",
      "Epoch 1/10\n",
      "5278/5278 [==============================] - 1s 109us/step - loss: 0.4741 - acc: 0.7928 - val_loss: 0.4044 - val_acc: 0.8390\n",
      "Epoch 2/10\n",
      "5278/5278 [==============================] - 0s 51us/step - loss: 0.3733 - acc: 0.8537 - val_loss: 0.3636 - val_acc: 0.8542\n",
      "Epoch 3/10\n",
      "5278/5278 [==============================] - 0s 49us/step - loss: 0.3361 - acc: 0.8710 - val_loss: 0.3389 - val_acc: 0.8701\n",
      "Epoch 4/10\n",
      "5278/5278 [==============================] - 0s 58us/step - loss: 0.3079 - acc: 0.8891 - val_loss: 0.3142 - val_acc: 0.8856\n",
      "Epoch 5/10\n",
      "5278/5278 [==============================] - 0s 54us/step - loss: 0.2837 - acc: 0.9033 - val_loss: 0.2946 - val_acc: 0.8951\n",
      "Epoch 6/10\n",
      "5278/5278 [==============================] - 0s 56us/step - loss: 0.2615 - acc: 0.9104 - val_loss: 0.2757 - val_acc: 0.9011\n",
      "Epoch 7/10\n",
      "5278/5278 [==============================] - 0s 56us/step - loss: 0.2433 - acc: 0.9177 - val_loss: 0.2620 - val_acc: 0.9072\n",
      "Epoch 8/10\n",
      "5278/5278 [==============================] - 0s 45us/step - loss: 0.2272 - acc: 0.9249 - val_loss: 0.2490 - val_acc: 0.9117\n",
      "Epoch 9/10\n",
      "5278/5278 [==============================] - 0s 52us/step - loss: 0.2119 - acc: 0.9305 - val_loss: 0.2388 - val_acc: 0.9159\n",
      "Epoch 10/10\n",
      "5278/5278 [==============================] - 0s 50us/step - loss: 0.1989 - acc: 0.9347 - val_loss: 0.2278 - val_acc: 0.9193\n"
     ]
    }
   ],
   "source": [
    "history = model.fit(X_train, y_train, epochs=10, \n",
    "                    batch_size=200, shuffle=True, \n",
    "\n",
    "                    validation_data=(X_test,y_test))"
   ]
  },
  {
   "cell_type": "code",
   "execution_count": 38,
   "metadata": {},
   "outputs": [
    {
     "data": {
      "image/png": "[encoded data removed]",
      "text/plain": [
       "<Figure size 432x288 with 1 Axes>"
      ]
     },
     "metadata": {
      "needs_background": "light"
     },
     "output_type": "display_data"
    }
   ],
   "source": [
    "\n",
    "plt.plot(history.history['loss'], color='red')\n",
    "\n",
    "plt.plot(history.history['val_loss'], color='blue')\n",
    "\n",
    "plt.plot(history.history['acc'], color='black')\n",
    "\n",
    "plt.plot(history.history['val_acc'], color='pink')\n",
    "plt.show()"
   ]
  },
  {
   "cell_type": "code",
   "execution_count": 39,
   "metadata": {},
   "outputs": [
    {
     "name": "stdout",
     "output_type": "stream",
     "text": [
      "1320/1320 [==============================] - 0s 40us/step\n"
     ]
    },
    {
     "data": {
      "text/plain": [
       "[0.22776811755064763, 0.9193181818181818]"
      ]
     },
     "execution_count": 39,
     "metadata": {},
     "output_type": "execute_result"
    }
   ],
   "source": [
    "model.evaluate(X_test,y_test)"
   ]
  },
  {
   "cell_type": "code",
   "execution_count": 40,
   "metadata": {},
   "outputs": [],
   "source": [
    "from sklearn.metrics import confusion_matrix\n",
    "pred = model.predict(X_test)\n",
    "pred = np.argmax(pred,axis = 1) \n",
    "y_true = np.argmax(y_test,axis = 1)"
   ]
  },
  {
   "cell_type": "code",
   "execution_count": 41,
   "metadata": {},
   "outputs": [
    {
     "data": {
      "image/png": "[encoded data removed]",
      "text/plain": [
       "<Figure size 360x360 with 1 Axes>"
      ]
     },
     "metadata": {
      "needs_background": "light"
     },
     "output_type": "display_data"
    }
   ],
   "source": [
    "\n",
    "CM = confusion_matrix(y_true, pred)\n",
    "from mlxtend.plotting import plot_confusion_matrix\n",
    "fig, ax = plot_confusion_matrix(conf_mat=CM ,  figsize=(5, 5))\n",
    "plt.show()\n"
   ]
  },
  {
   "cell_type": "code",
   "execution_count": 42,
   "metadata": {},
   "outputs": [
    {
     "name": "stdout",
     "output_type": "stream",
     "text": [
      "93.44262295081968\n"
     ]
    }
   ],
   "source": [
    "recall=(114/(8+114))*100\n",
    "\n",
    "print(recall)"
   ]
  },
  {
   "cell_type": "code",
   "execution_count": 43,
   "metadata": {},
   "outputs": [
    {
     "name": "stdout",
     "output_type": "stream",
     "text": [
      "54.285714285714285\n"
     ]
    }
   ],
   "source": [
    "precision=(114/(114+96))*100\n",
    "print(precision)"
   ]
  },
  {
   "cell_type": "code",
   "execution_count": 44,
   "metadata": {},
   "outputs": [
    {
     "name": "stdout",
     "output_type": "stream",
     "text": [
      "68.67469879518072\n"
     ]
    }
   ],
   "source": [
    "F1_score = 2 * (precision * recall) / (precision + recall)\n",
    "\n",
    "print(F1_score)\n"
   ]
  },
  {
   "cell_type": "code",
   "execution_count": null,
   "metadata": {},
   "outputs": [],
   "source": []
  }
 ],
 "metadata": {
  "kernelspec": {
   "display_name": "Python 3",
   "language": "python",
   "name": "python3"
  },
  "language_info": {
   "codemirror_mode": {
    "name": "ipython",
    "version": 3
   },
   "file_extension": ".py",
   "mimetype": "text/x-python",
   "name": "python",
   "nbconvert_exporter": "python",
   "pygments_lexer": "ipython3",
   "version": "3.6.8"
  }
 },
 "nbformat": 4,
 "nbformat_minor": 2
}
