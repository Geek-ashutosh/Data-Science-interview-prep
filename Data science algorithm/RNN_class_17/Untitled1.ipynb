{
 "cells": [
  {
   "cell_type": "code",
   "execution_count": 1,
   "metadata": {},
   "outputs": [
    {
     "name": "stderr",
     "output_type": "stream",
     "text": [
      "Using TensorFlow backend.\n",
      "/home/inderpreet/.local/lib/python3.6/site-packages/tensorflow/python/framework/dtypes.py:516: FutureWarning: Passing (type, 1) or '1type' as a synonym of type is deprecated; in a future version of numpy, it will be understood as (type, (1,)) / '(1,)type'.\n",
      "  _np_qint8 = np.dtype([(\"qint8\", np.int8, 1)])\n",
      "/home/inderpreet/.local/lib/python3.6/site-packages/tensorflow/python/framework/dtypes.py:517: FutureWarning: Passing (type, 1) or '1type' as a synonym of type is deprecated; in a future version of numpy, it will be understood as (type, (1,)) / '(1,)type'.\n",
      "  _np_quint8 = np.dtype([(\"quint8\", np.uint8, 1)])\n",
      "/home/inderpreet/.local/lib/python3.6/site-packages/tensorflow/python/framework/dtypes.py:518: FutureWarning: Passing (type, 1) or '1type' as a synonym of type is deprecated; in a future version of numpy, it will be understood as (type, (1,)) / '(1,)type'.\n",
      "  _np_qint16 = np.dtype([(\"qint16\", np.int16, 1)])\n",
      "/home/inderpreet/.local/lib/python3.6/site-packages/tensorflow/python/framework/dtypes.py:519: FutureWarning: Passing (type, 1) or '1type' as a synonym of type is deprecated; in a future version of numpy, it will be understood as (type, (1,)) / '(1,)type'.\n",
      "  _np_quint16 = np.dtype([(\"quint16\", np.uint16, 1)])\n",
      "/home/inderpreet/.local/lib/python3.6/site-packages/tensorflow/python/framework/dtypes.py:520: FutureWarning: Passing (type, 1) or '1type' as a synonym of type is deprecated; in a future version of numpy, it will be understood as (type, (1,)) / '(1,)type'.\n",
      "  _np_qint32 = np.dtype([(\"qint32\", np.int32, 1)])\n",
      "/home/inderpreet/.local/lib/python3.6/site-packages/tensorflow/python/framework/dtypes.py:525: FutureWarning: Passing (type, 1) or '1type' as a synonym of type is deprecated; in a future version of numpy, it will be understood as (type, (1,)) / '(1,)type'.\n",
      "  np_resource = np.dtype([(\"resource\", np.ubyte, 1)])\n",
      "/home/inderpreet/.local/lib/python3.6/site-packages/tensorboard/compat/tensorflow_stub/dtypes.py:541: FutureWarning: Passing (type, 1) or '1type' as a synonym of type is deprecated; in a future version of numpy, it will be understood as (type, (1,)) / '(1,)type'.\n",
      "  _np_qint8 = np.dtype([(\"qint8\", np.int8, 1)])\n",
      "/home/inderpreet/.local/lib/python3.6/site-packages/tensorboard/compat/tensorflow_stub/dtypes.py:542: FutureWarning: Passing (type, 1) or '1type' as a synonym of type is deprecated; in a future version of numpy, it will be understood as (type, (1,)) / '(1,)type'.\n",
      "  _np_quint8 = np.dtype([(\"quint8\", np.uint8, 1)])\n",
      "/home/inderpreet/.local/lib/python3.6/site-packages/tensorboard/compat/tensorflow_stub/dtypes.py:543: FutureWarning: Passing (type, 1) or '1type' as a synonym of type is deprecated; in a future version of numpy, it will be understood as (type, (1,)) / '(1,)type'.\n",
      "  _np_qint16 = np.dtype([(\"qint16\", np.int16, 1)])\n",
      "/home/inderpreet/.local/lib/python3.6/site-packages/tensorboard/compat/tensorflow_stub/dtypes.py:544: FutureWarning: Passing (type, 1) or '1type' as a synonym of type is deprecated; in a future version of numpy, it will be understood as (type, (1,)) / '(1,)type'.\n",
      "  _np_quint16 = np.dtype([(\"quint16\", np.uint16, 1)])\n",
      "/home/inderpreet/.local/lib/python3.6/site-packages/tensorboard/compat/tensorflow_stub/dtypes.py:545: FutureWarning: Passing (type, 1) or '1type' as a synonym of type is deprecated; in a future version of numpy, it will be understood as (type, (1,)) / '(1,)type'.\n",
      "  _np_qint32 = np.dtype([(\"qint32\", np.int32, 1)])\n",
      "/home/inderpreet/.local/lib/python3.6/site-packages/tensorboard/compat/tensorflow_stub/dtypes.py:550: FutureWarning: Passing (type, 1) or '1type' as a synonym of type is deprecated; in a future version of numpy, it will be understood as (type, (1,)) / '(1,)type'.\n",
      "  np_resource = np.dtype([(\"resource\", np.ubyte, 1)])\n"
     ]
    }
   ],
   "source": [
    "import numpy as np\n",
    "import pandas as pd\n",
    "import emoji\n",
    "from glove_vec import read_glove_vectors\n",
    "\n",
    "from keras.models import Sequential\n",
    "from keras.layers import Dense,Dropout,Flatten,SimpleRNN,LSTM,Activation\n",
    "from keras.optimizers import Adam\n",
    "import matplotlib.pyplot as plt\n",
    "from keras.utils import np_utils"
   ]
  },
  {
   "cell_type": "code",
   "execution_count": 2,
   "metadata": {},
   "outputs": [],
   "source": [
    "train=pd.read_csv(\"./train_emoji.csv\",header=None)\n",
    "\n",
    "test=pd.read_csv(\"./test_emoji.csv\",header=None)"
   ]
  },
  {
   "cell_type": "code",
   "execution_count": 3,
   "metadata": {},
   "outputs": [
    {
     "data": {
      "text/html": [
       "<div>\n",
       "<style scoped>\n",
       "    .dataframe tbody tr th:only-of-type {\n",
       "        vertical-align: middle;\n",
       "    }\n",
       "\n",
       "    .dataframe tbody tr th {\n",
       "        vertical-align: top;\n",
       "    }\n",
       "\n",
       "    .dataframe thead th {\n",
       "        text-align: right;\n",
       "    }\n",
       "</style>\n",
       "<table border=\"1\" class=\"dataframe\">\n",
       "  <thead>\n",
       "    <tr style=\"text-align: right;\">\n",
       "      <th></th>\n",
       "      <th>0</th>\n",
       "      <th>1</th>\n",
       "      <th>2</th>\n",
       "      <th>3</th>\n",
       "    </tr>\n",
       "  </thead>\n",
       "  <tbody>\n",
       "    <tr>\n",
       "      <th>0</th>\n",
       "      <td>never talk to me again</td>\n",
       "      <td>3</td>\n",
       "      <td>NaN</td>\n",
       "      <td>NaN</td>\n",
       "    </tr>\n",
       "    <tr>\n",
       "      <th>1</th>\n",
       "      <td>I am proud of your achievements</td>\n",
       "      <td>2</td>\n",
       "      <td>NaN</td>\n",
       "      <td>NaN</td>\n",
       "    </tr>\n",
       "    <tr>\n",
       "      <th>2</th>\n",
       "      <td>It is the worst day in my life</td>\n",
       "      <td>3</td>\n",
       "      <td>NaN</td>\n",
       "      <td>NaN</td>\n",
       "    </tr>\n",
       "    <tr>\n",
       "      <th>3</th>\n",
       "      <td>Miss you so much</td>\n",
       "      <td>0</td>\n",
       "      <td>NaN</td>\n",
       "      <td>[0]</td>\n",
       "    </tr>\n",
       "    <tr>\n",
       "      <th>4</th>\n",
       "      <td>food is life</td>\n",
       "      <td>4</td>\n",
       "      <td>NaN</td>\n",
       "      <td>NaN</td>\n",
       "    </tr>\n",
       "  </tbody>\n",
       "</table>\n",
       "</div>"
      ],
      "text/plain": [
       "                                 0  1   2     3\n",
       "0           never talk to me again  3 NaN   NaN\n",
       "1  I am proud of your achievements  2 NaN   NaN\n",
       "2   It is the worst day in my life  3 NaN   NaN\n",
       "3                 Miss you so much  0 NaN   [0]\n",
       "4                     food is life  4 NaN   NaN"
      ]
     },
     "execution_count": 3,
     "metadata": {},
     "output_type": "execute_result"
    }
   ],
   "source": [
    "train.head()"
   ]
  },
  {
   "cell_type": "code",
   "execution_count": 4,
   "metadata": {},
   "outputs": [],
   "source": [
    "emoji_dict = {\"0\" : \":heart:\", \"1\" : \":baseball:\", \"2\" : \":smile:\", \n",
    "              \"3\" : \":disappointed:\", \"4\" : \":fork_and_knife:\"}"
   ]
  },
  {
   "cell_type": "code",
   "execution_count": 5,
   "metadata": {},
   "outputs": [],
   "source": [
    "def printdict(label):\n",
    "    \n",
    "    return emoji.emojize(emoji_dict[str(label)],use_aliases=True)"
   ]
  },
  {
   "cell_type": "code",
   "execution_count": 6,
   "metadata": {},
   "outputs": [
    {
     "name": "stdout",
     "output_type": "stream",
     "text": [
      "❤\n",
      "⚾\n",
      "😄\n",
      "😞\n",
      "🍴\n"
     ]
    }
   ],
   "source": [
    "for i in range(5):\n",
    "    \n",
    "    print(printdict(i))"
   ]
  },
  {
   "cell_type": "code",
   "execution_count": 7,
   "metadata": {},
   "outputs": [
    {
     "name": "stdout",
     "output_type": "stream",
     "text": [
      "(132,) (132,)\n"
     ]
    }
   ],
   "source": [
    "X_train=train[0]\n",
    "Y_train=train[1]\n",
    "\n",
    "X_test=test[0]\n",
    "\n",
    "Y_test=test[1]\n",
    "\n",
    "print(X_train.shape,Y_train.shape)"
   ]
  },
  {
   "cell_type": "code",
   "execution_count": 8,
   "metadata": {},
   "outputs": [
    {
     "name": "stderr",
     "output_type": "stream",
     "text": [
      "/usr/local/lib/python3.6/dist-packages/ipykernel_launcher.py:2: SettingWithCopyWarning: \n",
      "A value is trying to be set on a copy of a slice from a DataFrame\n",
      "\n",
      "See the caveats in the documentation: http://pandas.pydata.org/pandas-docs/stable/indexing.html#indexing-view-versus-copy\n",
      "  \n",
      "/usr/local/lib/python3.6/dist-packages/ipykernel_launcher.py:5: SettingWithCopyWarning: \n",
      "A value is trying to be set on a copy of a slice from a DataFrame\n",
      "\n",
      "See the caveats in the documentation: http://pandas.pydata.org/pandas-docs/stable/indexing.html#indexing-view-versus-copy\n",
      "  \"\"\"\n"
     ]
    }
   ],
   "source": [
    "for ix in range(X_train.shape[0]):\n",
    "    X_train[ix]=X_train[ix].split()\n",
    "    \n",
    "for ix in range(X_test.shape[0]):\n",
    "    X_test[ix]=X_test[ix].split()\n",
    "\n",
    "Y_train=np_utils.to_categorical(Y_train)\n",
    "\n"
   ]
  },
  {
   "cell_type": "code",
   "execution_count": 9,
   "metadata": {},
   "outputs": [
    {
     "name": "stdout",
     "output_type": "stream",
     "text": [
      "['never', 'talk', 'to', 'me', 'again'] [0. 0. 0. 1. 0.]\n"
     ]
    }
   ],
   "source": [
    "print(X_train[0],Y_train[0])"
   ]
  },
  {
   "cell_type": "code",
   "execution_count": 10,
   "metadata": {},
   "outputs": [],
   "source": [
    "emb_matrix=read_glove_vectors(\"./glove.6B.50d.txt\")"
   ]
  },
  {
   "cell_type": "code",
   "execution_count": 11,
   "metadata": {},
   "outputs": [
    {
     "name": "stdout",
     "output_type": "stream",
     "text": [
      "[ 1.1891e-01  1.5255e-01 -8.2073e-02 -7.4144e-01  7.5917e-01 -4.8328e-01\n",
      " -3.1009e-01  5.1476e-01 -9.8708e-01  6.1757e-04 -1.5043e-01  8.3770e-01\n",
      " -1.0797e+00 -5.1460e-01  1.3188e+00  6.2007e-01  1.3779e-01  4.7108e-01\n",
      " -7.2874e-02 -7.2675e-01 -7.4116e-01  7.5263e-01  8.8180e-01  2.9561e-01\n",
      "  1.3548e+00 -2.5701e+00 -1.3523e+00  4.5880e-01  1.0068e+00 -1.1856e+00\n",
      "  3.4737e+00  7.7898e-01 -7.2929e-01  2.5102e-01 -2.6156e-01 -3.4684e-01\n",
      "  5.5841e-01  7.5098e-01  4.9830e-01 -2.6823e-01 -2.7443e-03 -1.8298e-02\n",
      " -2.8096e-01  5.5318e-01  3.7706e-02  1.8555e-01 -1.5025e-01 -5.7512e-01\n",
      " -2.6671e-01  9.2121e-01] (50,)\n"
     ]
    }
   ],
   "source": [
    "print(emb_matrix[\"i\"],emb_matrix[\"i\"].shape)"
   ]
  },
  {
   "cell_type": "code",
   "execution_count": 12,
   "metadata": {},
   "outputs": [],
   "source": [
    "embeddings_train=np.zeros((X_train.shape[0],10,50))\n",
    "embeddings_test=np.zeros((X_test.shape[0],10,50))\n"
   ]
  },
  {
   "cell_type": "code",
   "execution_count": 13,
   "metadata": {},
   "outputs": [],
   "source": [
    "\n",
    "for ix in range(X_train.shape[0]):\n",
    "    for ij in range(len(X_train[ix])):\n",
    "        embeddings_train[ix][ij] = emb_matrix[X_train[ix][ij].lower()]\n",
    "        \n",
    "\n",
    "for ix in range(X_test.shape[0]):\n",
    "    for ij in range(len(X_test[ix])):\n",
    "        embeddings_test[ix][ij] = emb_matrix[X_test[ix][ij].lower()]"
   ]
  },
  {
   "cell_type": "code",
   "execution_count": 14,
   "metadata": {},
   "outputs": [
    {
     "name": "stdout",
     "output_type": "stream",
     "text": [
      "(132, 10, 50) (56, 10, 50)\n"
     ]
    }
   ],
   "source": [
    "print(embeddings_train.shape,embeddings_test.shape)"
   ]
  },
  {
   "cell_type": "code",
   "execution_count": 15,
   "metadata": {},
   "outputs": [
    {
     "name": "stderr",
     "output_type": "stream",
     "text": [
      "WARNING: Logging before flag parsing goes to stderr.\n",
      "W1122 21:56:44.134474 140492492531520 deprecation_wrapper.py:119] From /home/inderpreet/.local/lib/python3.6/site-packages/keras/backend/tensorflow_backend.py:74: The name tf.get_default_graph is deprecated. Please use tf.compat.v1.get_default_graph instead.\n",
      "\n",
      "W1122 21:56:44.173711 140492492531520 deprecation_wrapper.py:119] From /home/inderpreet/.local/lib/python3.6/site-packages/keras/backend/tensorflow_backend.py:517: The name tf.placeholder is deprecated. Please use tf.compat.v1.placeholder instead.\n",
      "\n",
      "W1122 21:56:44.176674 140492492531520 deprecation_wrapper.py:119] From /home/inderpreet/.local/lib/python3.6/site-packages/keras/backend/tensorflow_backend.py:4138: The name tf.random_uniform is deprecated. Please use tf.random.uniform instead.\n",
      "\n",
      "W1122 21:56:44.360600 140492492531520 deprecation_wrapper.py:119] From /home/inderpreet/.local/lib/python3.6/site-packages/keras/backend/tensorflow_backend.py:133: The name tf.placeholder_with_default is deprecated. Please use tf.compat.v1.placeholder_with_default instead.\n",
      "\n",
      "W1122 21:56:44.365163 140492492531520 deprecation.py:506] From /home/inderpreet/.local/lib/python3.6/site-packages/keras/backend/tensorflow_backend.py:3445: calling dropout (from tensorflow.python.ops.nn_ops) with keep_prob is deprecated and will be removed in a future version.\n",
      "Instructions for updating:\n",
      "Please use `rate` instead of `keep_prob`. Rate should be set to `rate = 1 - keep_prob`.\n"
     ]
    },
    {
     "name": "stdout",
     "output_type": "stream",
     "text": [
      "_________________________________________________________________\n",
      "Layer (type)                 Output Shape              Param #   \n",
      "=================================================================\n",
      "lstm_1 (LSTM)                (None, 10, 64)            29440     \n",
      "_________________________________________________________________\n",
      "dropout_1 (Dropout)          (None, 10, 64)            0         \n",
      "_________________________________________________________________\n",
      "lstm_2 (LSTM)                (None, 16)                5184      \n",
      "_________________________________________________________________\n",
      "dropout_2 (Dropout)          (None, 16)                0         \n",
      "_________________________________________________________________\n",
      "dense_1 (Dense)              (None, 5)                 85        \n",
      "=================================================================\n",
      "Total params: 34,709\n",
      "Trainable params: 34,709\n",
      "Non-trainable params: 0\n",
      "_________________________________________________________________\n"
     ]
    }
   ],
   "source": [
    "model=Sequential()\n",
    "model.add(LSTM(64,input_shape=(10,50),return_sequences=True))\n",
    "model.add(Dropout(0.4))\n",
    "model.add(LSTM(16,return_sequences=False))\n",
    "model.add(Dropout(0.5))\n",
    "model.add(Dense(5,activation='softmax'))\n",
    "model.summary()\n"
   ]
  },
  {
   "cell_type": "code",
   "execution_count": 16,
   "metadata": {},
   "outputs": [
    {
     "name": "stderr",
     "output_type": "stream",
     "text": [
      "W1122 21:56:44.523333 140492492531520 deprecation_wrapper.py:119] From /home/inderpreet/.local/lib/python3.6/site-packages/keras/optimizers.py:790: The name tf.train.Optimizer is deprecated. Please use tf.compat.v1.train.Optimizer instead.\n",
      "\n",
      "W1122 21:56:44.527972 140492492531520 deprecation_wrapper.py:119] From /home/inderpreet/.local/lib/python3.6/site-packages/keras/backend/tensorflow_backend.py:3295: The name tf.log is deprecated. Please use tf.math.log instead.\n",
      "\n"
     ]
    }
   ],
   "source": [
    "model.compile(loss='categorical_crossentropy',optimizer=Adam(lr=0.001),metrics=['accuracy'])"
   ]
  },
  {
   "cell_type": "code",
   "execution_count": 17,
   "metadata": {},
   "outputs": [
    {
     "name": "stderr",
     "output_type": "stream",
     "text": [
      "W1122 21:56:44.748145 140492492531520 deprecation.py:323] From /home/inderpreet/.local/lib/python3.6/site-packages/tensorflow/python/ops/math_grad.py:1250: add_dispatch_support.<locals>.wrapper (from tensorflow.python.ops.array_ops) is deprecated and will be removed in a future version.\n",
      "Instructions for updating:\n",
      "Use tf.where in 2.0, which has the same broadcast rule as np.where\n"
     ]
    },
    {
     "name": "stdout",
     "output_type": "stream",
     "text": [
      "Train on 105 samples, validate on 27 samples\n",
      "Epoch 1/50\n",
      "105/105 [==============================] - 2s 18ms/step - loss: 1.5751 - acc: 0.3048 - val_loss: 1.6329 - val_acc: 0.2222\n",
      "Epoch 2/50\n",
      "105/105 [==============================] - 0s 2ms/step - loss: 1.5403 - acc: 0.2952 - val_loss: 1.6202 - val_acc: 0.2222\n",
      "Epoch 3/50\n",
      "105/105 [==============================] - 0s 2ms/step - loss: 1.4901 - acc: 0.3524 - val_loss: 1.5990 - val_acc: 0.2222\n",
      "Epoch 4/50\n",
      "105/105 [==============================] - 0s 2ms/step - loss: 1.4249 - acc: 0.4190 - val_loss: 1.5498 - val_acc: 0.2593\n",
      "Epoch 5/50\n",
      "105/105 [==============================] - 0s 2ms/step - loss: 1.3686 - acc: 0.5619 - val_loss: 1.5168 - val_acc: 0.2963\n",
      "Epoch 6/50\n",
      "105/105 [==============================] - 0s 2ms/step - loss: 1.2848 - acc: 0.5429 - val_loss: 1.3839 - val_acc: 0.3704\n",
      "Epoch 7/50\n",
      "105/105 [==============================] - 0s 2ms/step - loss: 1.2456 - acc: 0.4476 - val_loss: 1.2832 - val_acc: 0.3704\n",
      "Epoch 8/50\n",
      "105/105 [==============================] - 0s 2ms/step - loss: 1.2026 - acc: 0.5714 - val_loss: 1.2223 - val_acc: 0.5926\n",
      "Epoch 9/50\n",
      "105/105 [==============================] - 0s 2ms/step - loss: 1.0564 - acc: 0.6000 - val_loss: 1.2769 - val_acc: 0.6296\n",
      "Epoch 10/50\n",
      "105/105 [==============================] - 0s 2ms/step - loss: 1.0143 - acc: 0.6190 - val_loss: 1.1859 - val_acc: 0.6667\n",
      "Epoch 11/50\n",
      "105/105 [==============================] - 0s 2ms/step - loss: 1.0182 - acc: 0.6571 - val_loss: 1.2804 - val_acc: 0.6296\n",
      "Epoch 12/50\n",
      "105/105 [==============================] - 0s 2ms/step - loss: 0.8924 - acc: 0.7238 - val_loss: 1.2234 - val_acc: 0.6667\n",
      "Epoch 13/50\n",
      "105/105 [==============================] - 0s 2ms/step - loss: 0.8482 - acc: 0.6571 - val_loss: 1.0980 - val_acc: 0.6667\n",
      "Epoch 14/50\n",
      "105/105 [==============================] - 0s 2ms/step - loss: 0.8725 - acc: 0.6476 - val_loss: 1.2444 - val_acc: 0.5556\n",
      "Epoch 15/50\n",
      "105/105 [==============================] - 0s 2ms/step - loss: 0.7759 - acc: 0.6952 - val_loss: 0.9382 - val_acc: 0.7407\n",
      "Epoch 16/50\n",
      "105/105 [==============================] - 0s 2ms/step - loss: 0.7179 - acc: 0.7238 - val_loss: 1.1312 - val_acc: 0.6296\n",
      "Epoch 17/50\n",
      "105/105 [==============================] - 0s 2ms/step - loss: 0.7490 - acc: 0.7619 - val_loss: 1.0466 - val_acc: 0.6667\n",
      "Epoch 18/50\n",
      "105/105 [==============================] - 0s 2ms/step - loss: 0.6727 - acc: 0.7905 - val_loss: 1.2752 - val_acc: 0.5185\n",
      "Epoch 19/50\n",
      "105/105 [==============================] - 0s 2ms/step - loss: 0.6006 - acc: 0.8095 - val_loss: 1.2315 - val_acc: 0.6296\n",
      "Epoch 20/50\n",
      "105/105 [==============================] - 0s 2ms/step - loss: 0.7777 - acc: 0.7524 - val_loss: 0.9865 - val_acc: 0.7037\n",
      "Epoch 21/50\n",
      "105/105 [==============================] - 0s 2ms/step - loss: 0.7434 - acc: 0.7333 - val_loss: 1.0155 - val_acc: 0.7037\n",
      "Epoch 22/50\n",
      "105/105 [==============================] - 0s 2ms/step - loss: 0.5138 - acc: 0.8571 - val_loss: 1.5064 - val_acc: 0.5556\n",
      "Epoch 23/50\n",
      "105/105 [==============================] - 0s 2ms/step - loss: 0.5459 - acc: 0.8571 - val_loss: 1.2318 - val_acc: 0.5556\n",
      "Epoch 24/50\n",
      "105/105 [==============================] - 0s 2ms/step - loss: 0.4730 - acc: 0.8762 - val_loss: 0.9897 - val_acc: 0.7037\n",
      "Epoch 25/50\n",
      "105/105 [==============================] - 0s 2ms/step - loss: 0.5111 - acc: 0.8571 - val_loss: 1.0891 - val_acc: 0.6296\n",
      "Epoch 26/50\n",
      "105/105 [==============================] - 0s 2ms/step - loss: 0.4381 - acc: 0.8571 - val_loss: 1.6183 - val_acc: 0.4815\n",
      "Epoch 27/50\n",
      "105/105 [==============================] - 0s 2ms/step - loss: 0.4183 - acc: 0.8286 - val_loss: 1.1497 - val_acc: 0.5926\n",
      "Epoch 28/50\n",
      "105/105 [==============================] - 0s 2ms/step - loss: 0.3531 - acc: 0.8952 - val_loss: 0.9442 - val_acc: 0.6667\n",
      "Epoch 29/50\n",
      "105/105 [==============================] - 0s 2ms/step - loss: 0.3846 - acc: 0.8952 - val_loss: 0.8708 - val_acc: 0.8148\n",
      "Epoch 30/50\n",
      "105/105 [==============================] - 0s 2ms/step - loss: 0.3256 - acc: 0.9143 - val_loss: 1.1782 - val_acc: 0.5926\n",
      "Epoch 31/50\n",
      "105/105 [==============================] - 0s 2ms/step - loss: 0.3869 - acc: 0.8667 - val_loss: 1.0914 - val_acc: 0.7407\n",
      "Epoch 32/50\n",
      "105/105 [==============================] - 0s 2ms/step - loss: 0.4162 - acc: 0.8857 - val_loss: 1.3250 - val_acc: 0.5926\n",
      "Epoch 33/50\n",
      "105/105 [==============================] - 0s 2ms/step - loss: 0.4407 - acc: 0.8667 - val_loss: 0.9083 - val_acc: 0.7407\n",
      "Epoch 34/50\n",
      "105/105 [==============================] - 0s 2ms/step - loss: 0.3563 - acc: 0.9048 - val_loss: 1.1603 - val_acc: 0.6296\n",
      "Epoch 35/50\n",
      "105/105 [==============================] - 0s 2ms/step - loss: 0.2229 - acc: 0.9524 - val_loss: 1.1978 - val_acc: 0.5926\n",
      "Epoch 36/50\n",
      "105/105 [==============================] - 0s 2ms/step - loss: 0.2461 - acc: 0.9619 - val_loss: 0.9168 - val_acc: 0.7407\n",
      "Epoch 37/50\n",
      "105/105 [==============================] - 0s 2ms/step - loss: 0.3165 - acc: 0.9238 - val_loss: 1.2134 - val_acc: 0.7037\n",
      "Epoch 38/50\n",
      "105/105 [==============================] - 0s 2ms/step - loss: 0.2813 - acc: 0.9238 - val_loss: 1.1775 - val_acc: 0.7037\n",
      "Epoch 39/50\n",
      "105/105 [==============================] - 0s 2ms/step - loss: 0.3058 - acc: 0.9048 - val_loss: 1.0717 - val_acc: 0.6667\n",
      "Epoch 40/50\n",
      "105/105 [==============================] - 0s 2ms/step - loss: 0.2668 - acc: 0.9333 - val_loss: 1.2478 - val_acc: 0.6296\n",
      "Epoch 41/50\n",
      "105/105 [==============================] - 0s 2ms/step - loss: 0.2618 - acc: 0.9524 - val_loss: 1.1612 - val_acc: 0.6296\n",
      "Epoch 42/50\n",
      "105/105 [==============================] - 0s 2ms/step - loss: 0.2953 - acc: 0.9143 - val_loss: 1.0218 - val_acc: 0.7037\n",
      "Epoch 43/50\n",
      "105/105 [==============================] - 0s 2ms/step - loss: 0.2581 - acc: 0.9333 - val_loss: 1.0606 - val_acc: 0.7407\n",
      "Epoch 44/50\n",
      "105/105 [==============================] - 0s 2ms/step - loss: 0.2446 - acc: 0.9238 - val_loss: 1.2680 - val_acc: 0.6296\n",
      "Epoch 45/50\n",
      "105/105 [==============================] - 0s 2ms/step - loss: 0.2016 - acc: 0.9429 - val_loss: 1.3786 - val_acc: 0.5556\n",
      "Epoch 46/50\n",
      "105/105 [==============================] - 0s 2ms/step - loss: 0.1582 - acc: 0.9714 - val_loss: 1.4843 - val_acc: 0.5556\n",
      "Epoch 47/50\n",
      "105/105 [==============================] - 0s 2ms/step - loss: 0.1457 - acc: 0.9810 - val_loss: 1.2691 - val_acc: 0.6296\n",
      "Epoch 48/50\n",
      "105/105 [==============================] - 0s 2ms/step - loss: 0.1780 - acc: 0.9619 - val_loss: 1.2349 - val_acc: 0.6296\n",
      "Epoch 49/50\n",
      "105/105 [==============================] - 0s 2ms/step - loss: 0.1549 - acc: 0.9714 - val_loss: 1.3148 - val_acc: 0.6296\n",
      "Epoch 50/50\n",
      "105/105 [==============================] - 0s 2ms/step - loss: 0.1686 - acc: 0.9524 - val_loss: 1.3278 - val_acc: 0.5926\n"
     ]
    }
   ],
   "source": [
    "hist=model.fit(embeddings_train,Y_train,epochs=50,batch_size=12,validation_split=0.20,shuffle=True)"
   ]
  },
  {
   "cell_type": "code",
   "execution_count": 18,
   "metadata": {},
   "outputs": [],
   "source": [
    "pred=model.predict_classes(embeddings_test)"
   ]
  },
  {
   "cell_type": "code",
   "execution_count": 19,
   "metadata": {},
   "outputs": [],
   "source": [
    "acc=float(sum(pred==Y_test)/embeddings_test.shape[0])"
   ]
  },
  {
   "cell_type": "code",
   "execution_count": 28,
   "metadata": {},
   "outputs": [
    {
     "name": "stdout",
     "output_type": "stream",
     "text": [
      "0.625\n"
     ]
    }
   ],
   "source": [
    "print(acc)"
   ]
  },
  {
   "cell_type": "code",
   "execution_count": 31,
   "metadata": {},
   "outputs": [],
   "source": [
    "def print_emoji(label):\n",
    "    \n",
    "    return emoji.emojize(emoji_dict[label], use_aliases=True)"
   ]
  },
  {
   "cell_type": "code",
   "execution_count": 32,
   "metadata": {},
   "outputs": [
    {
     "ename": "KeyError",
     "evalue": "0",
     "output_type": "error",
     "traceback": [
      "\u001b[0;31m---------------------------------------------------------------------------\u001b[0m",
      "\u001b[0;31mKeyError\u001b[0m                                  Traceback (most recent call last)",
      "\u001b[0;32m<ipython-input-32-af18eb7b2c01>\u001b[0m in \u001b[0;36m<module>\u001b[0;34m\u001b[0m\n\u001b[1;32m      2\u001b[0m \u001b[0;34m\u001b[0m\u001b[0m\n\u001b[1;32m      3\u001b[0m     \u001b[0;32mif\u001b[0m \u001b[0;34m(\u001b[0m\u001b[0mpred\u001b[0m\u001b[0;34m[\u001b[0m\u001b[0mix\u001b[0m\u001b[0;34m]\u001b[0m \u001b[0;34m!=\u001b[0m \u001b[0mY_test\u001b[0m\u001b[0;34m[\u001b[0m\u001b[0mix\u001b[0m\u001b[0;34m]\u001b[0m\u001b[0;34m)\u001b[0m\u001b[0;34m:\u001b[0m\u001b[0;34m\u001b[0m\u001b[0;34m\u001b[0m\u001b[0m\n\u001b[0;32m----> 4\u001b[0;31m         \u001b[0mprint\u001b[0m\u001b[0;34m(\u001b[0m\u001b[0mX_test\u001b[0m\u001b[0;34m[\u001b[0m\u001b[0mix\u001b[0m\u001b[0;34m]\u001b[0m\u001b[0;34m,\u001b[0m \u001b[0mprint_emoji\u001b[0m\u001b[0;34m(\u001b[0m\u001b[0mY_test\u001b[0m\u001b[0;34m[\u001b[0m\u001b[0mix\u001b[0m\u001b[0;34m]\u001b[0m\u001b[0;34m)\u001b[0m\u001b[0;34m,\u001b[0m \u001b[0mprint_emoji\u001b[0m\u001b[0;34m(\u001b[0m\u001b[0mpred\u001b[0m\u001b[0;34m[\u001b[0m\u001b[0mix\u001b[0m\u001b[0;34m]\u001b[0m\u001b[0;34m)\u001b[0m\u001b[0;34m)\u001b[0m\u001b[0;34m\u001b[0m\u001b[0;34m\u001b[0m\u001b[0m\n\u001b[0m",
      "\u001b[0;32m<ipython-input-31-00e0b6bb79da>\u001b[0m in \u001b[0;36mprint_emoji\u001b[0;34m(label)\u001b[0m\n\u001b[1;32m      1\u001b[0m \u001b[0;32mdef\u001b[0m \u001b[0mprint_emoji\u001b[0m\u001b[0;34m(\u001b[0m\u001b[0mlabel\u001b[0m\u001b[0;34m)\u001b[0m\u001b[0;34m:\u001b[0m\u001b[0;34m\u001b[0m\u001b[0;34m\u001b[0m\u001b[0m\n\u001b[1;32m      2\u001b[0m \u001b[0;34m\u001b[0m\u001b[0m\n\u001b[0;32m----> 3\u001b[0;31m     \u001b[0;32mreturn\u001b[0m \u001b[0memoji\u001b[0m\u001b[0;34m.\u001b[0m\u001b[0memojize\u001b[0m\u001b[0;34m(\u001b[0m\u001b[0memoji_dict\u001b[0m\u001b[0;34m[\u001b[0m\u001b[0mlabel\u001b[0m\u001b[0;34m]\u001b[0m\u001b[0;34m,\u001b[0m \u001b[0muse_aliases\u001b[0m\u001b[0;34m=\u001b[0m\u001b[0;32mTrue\u001b[0m\u001b[0;34m)\u001b[0m\u001b[0;34m\u001b[0m\u001b[0;34m\u001b[0m\u001b[0m\n\u001b[0m",
      "\u001b[0;31mKeyError\u001b[0m: 0"
     ]
    }
   ],
   "source": [
    "for ix in range(embeddings_test.shape[0]):\n",
    "    \n",
    "    if (pred[ix] != Y_test[ix]):\n",
    "        print(X_test[ix], print_emoji(Y_test[ix]), print_emoji(pred[ix]))"
   ]
  },
  {
   "cell_type": "code",
   "execution_count": null,
   "metadata": {},
   "outputs": [],
   "source": []
  }
 ],
 "metadata": {
  "kernelspec": {
   "display_name": "Python 3",
   "language": "python",
   "name": "python3"
  },
  "language_info": {
   "codemirror_mode": {
    "name": "ipython",
    "version": 3
   },
   "file_extension": ".py",
   "mimetype": "text/x-python",
   "name": "python",
   "nbconvert_exporter": "python",
   "pygments_lexer": "ipython3",
   "version": "3.6.8"
  }
 },
 "nbformat": 4,
 "nbformat_minor": 2
}
