{
 "cells": [
  {
   "cell_type": "code",
   "execution_count": 1,
   "metadata": {},
   "outputs": [
    {
     "name": "stderr",
     "output_type": "stream",
     "text": [
      "Using TensorFlow backend.\n"
     ]
    }
   ],
   "source": [
    "import numpy as np\n",
    "import pandas as pd\n",
    "import matplotlib.pyplot as plt\n",
    "\n",
    "import emoji\n",
    "\n",
    "from glove_vec import read_glove_vectors\n",
    "\n",
    "from keras.models import Sequential\n",
    "from keras.layers import Input,SimpleRNN,LSTM,Dropout,Dense,Activation\n",
    "from keras.utils import np_utils\n",
    "\n"
   ]
  },
  {
   "cell_type": "code",
   "execution_count": 2,
   "metadata": {},
   "outputs": [],
   "source": [
    "train=pd.read_csv(\"train_emoji.csv\",header=None)\n",
    "test=pd.read_csv(\"test_emoji.csv\",header=None)"
   ]
  },
  {
   "cell_type": "code",
   "execution_count": 4,
   "metadata": {},
   "outputs": [],
   "source": [
    "emoji_dict={\"0\":\":bat:\",\"1\":\":kiss:\",\"2\":\":heart:\",\"3\":\":smile:\",\"4\":\":baseball:\"}"
   ]
  },
  {
   "cell_type": "code",
   "execution_count": 5,
   "metadata": {},
   "outputs": [
    {
     "name": "stdout",
     "output_type": "stream",
     "text": [
      "0 🦇\n",
      "1 💋\n",
      "2 ❤\n",
      "3 😄\n",
      "4 ⚾\n"
     ]
    }
   ],
   "source": [
    "for ix in emoji_dict.keys():\n",
    "    \n",
    "    print(ix,emoji.emojize(emoji_dict[ix],use_aliases=True))"
   ]
  },
  {
   "cell_type": "code",
   "execution_count": 6,
   "metadata": {},
   "outputs": [],
   "source": [
    "X_train = train[0]\n",
    "Y_train = train[1]\n",
    "\n",
    "X_test = test[0]\n",
    "Y_test = test[1]"
   ]
  },
  {
   "cell_type": "code",
   "execution_count": 7,
   "metadata": {
    "scrolled": true
   },
   "outputs": [
    {
     "name": "stderr",
     "output_type": "stream",
     "text": [
      "/usr/local/lib/python3.6/dist-packages/ipykernel_launcher.py:2: SettingWithCopyWarning: \n",
      "A value is trying to be set on a copy of a slice from a DataFrame\n",
      "\n",
      "See the caveats in the documentation: http://pandas.pydata.org/pandas-docs/stable/indexing.html#indexing-view-versus-copy\n",
      "  \n",
      "/usr/local/lib/python3.6/dist-packages/ipykernel_launcher.py:6: SettingWithCopyWarning: \n",
      "A value is trying to be set on a copy of a slice from a DataFrame\n",
      "\n",
      "See the caveats in the documentation: http://pandas.pydata.org/pandas-docs/stable/indexing.html#indexing-view-versus-copy\n",
      "  \n"
     ]
    }
   ],
   "source": [
    "for ix in range(X_train.shape[0]):\n",
    "        X_train[ix]=X_train[ix].split()\n",
    "        \n",
    "\n",
    "for ix in range(X_test.shape[0]):\n",
    "    X_test[ix]=X_test[ix].split()\n",
    "    \n",
    "Y_train=np_utils.to_categorical(Y_train)"
   ]
  },
  {
   "cell_type": "code",
   "execution_count": 8,
   "metadata": {},
   "outputs": [
    {
     "name": "stdout",
     "output_type": "stream",
     "text": [
      "['never', 'talk', 'to', 'me', 'again'] [0. 0. 0. 1. 0.]\n"
     ]
    }
   ],
   "source": [
    "print(X_train[0],Y_train[0])"
   ]
  },
  {
   "cell_type": "code",
   "execution_count": 9,
   "metadata": {},
   "outputs": [],
   "source": [
    "emb=read_glove_vectors(\"glove.6B.50d.txt\")"
   ]
  },
  {
   "cell_type": "code",
   "execution_count": 30,
   "metadata": {},
   "outputs": [],
   "source": [
    "embedding_train=np.zeros((X_train.shape[0],10,50))\n",
    "\n",
    "embedding_test=np.zeros((X_test.shape[0],10,50))\n",
    "\n",
    "for ix in range(X_train.shape[0]):\n",
    "    \n",
    "    for ij in range(len(X_train[ix])):\n",
    "        \n",
    "        embedding_train[ix][ij]=emb[X_train[ix][ij].lower()]\n",
    "        \n",
    "\n",
    "for ix in range(X_test.shape[0]):\n",
    "    \n",
    "    for ij in range(len(X_test[ix])):\n",
    "        \n",
    "        embedding_test[ix][ij]=emb[X_test[ix][ij].lower()]\n",
    "        \n",
    "        \n"
   ]
  },
  {
   "cell_type": "code",
   "execution_count": 31,
   "metadata": {},
   "outputs": [
    {
     "name": "stdout",
     "output_type": "stream",
     "text": [
      "(132, 10, 50)\n"
     ]
    }
   ],
   "source": [
    "print(embedding_train.shape)"
   ]
  },
  {
   "cell_type": "code",
   "execution_count": 35,
   "metadata": {},
   "outputs": [
    {
     "name": "stdout",
     "output_type": "stream",
     "text": [
      "_________________________________________________________________\n",
      "Layer (type)                 Output Shape              Param #   \n",
      "=================================================================\n",
      "lstm_17 (LSTM)               (None, 10, 32)            10624     \n",
      "_________________________________________________________________\n",
      "dropout_17 (Dropout)         (None, 10, 32)            0         \n",
      "_________________________________________________________________\n",
      "lstm_18 (LSTM)               (None, 16)                3136      \n",
      "_________________________________________________________________\n",
      "dropout_18 (Dropout)         (None, 16)                0         \n",
      "_________________________________________________________________\n",
      "dense_9 (Dense)              (None, 5)                 85        \n",
      "=================================================================\n",
      "Total params: 13,845\n",
      "Trainable params: 13,845\n",
      "Non-trainable params: 0\n",
      "_________________________________________________________________\n"
     ]
    }
   ],
   "source": [
    "model=Sequential()\n",
    "model.add(LSTM(32,input_shape=(10,50),return_sequences=True))\n",
    "model.add(Dropout(0.5))\n",
    "model.add(LSTM(16,return_sequences=False))\n",
    "model.add(Dropout(0.5))\n",
    "model.add(Dense(5,activation='softmax'))\n",
    "model.summary()"
   ]
  },
  {
   "cell_type": "code",
   "execution_count": 36,
   "metadata": {},
   "outputs": [],
   "source": [
    "model.compile(loss=\"categorical_crossentropy\", optimizer=\"RMSprop\", metrics=['accuracy'])"
   ]
  },
  {
   "cell_type": "code",
   "execution_count": 37,
   "metadata": {},
   "outputs": [
    {
     "name": "stdout",
     "output_type": "stream",
     "text": [
      "Train on 125 samples, validate on 7 samples\n",
      "Epoch 1/50\n",
      "125/125 [==============================] - 2s 15ms/step - loss: 1.5742 - acc: 0.2640 - val_loss: 1.7138 - val_acc: 0.1429\n",
      "Epoch 2/50\n",
      "125/125 [==============================] - 0s 2ms/step - loss: 1.5500 - acc: 0.3120 - val_loss: 1.7156 - val_acc: 0.1429\n",
      "Epoch 3/50\n",
      "125/125 [==============================] - 0s 2ms/step - loss: 1.5009 - acc: 0.3520 - val_loss: 1.7154 - val_acc: 0.1429\n",
      "Epoch 4/50\n",
      "125/125 [==============================] - 0s 2ms/step - loss: 1.4778 - acc: 0.3360 - val_loss: 1.6972 - val_acc: 0.2857\n",
      "Epoch 5/50\n",
      "125/125 [==============================] - 0s 2ms/step - loss: 1.4668 - acc: 0.3600 - val_loss: 1.6137 - val_acc: 0.2857\n",
      "Epoch 6/50\n",
      "125/125 [==============================] - 0s 2ms/step - loss: 1.4614 - acc: 0.3680 - val_loss: 1.5255 - val_acc: 0.4286\n",
      "Epoch 7/50\n",
      "125/125 [==============================] - 0s 2ms/step - loss: 1.3693 - acc: 0.5440 - val_loss: 1.5894 - val_acc: 0.2857\n",
      "Epoch 8/50\n",
      "125/125 [==============================] - 0s 2ms/step - loss: 1.3081 - acc: 0.5120 - val_loss: 1.4628 - val_acc: 0.7143\n",
      "Epoch 9/50\n",
      "125/125 [==============================] - 0s 3ms/step - loss: 1.2273 - acc: 0.6080 - val_loss: 1.4884 - val_acc: 0.4286\n",
      "Epoch 10/50\n",
      "125/125 [==============================] - 0s 2ms/step - loss: 1.1568 - acc: 0.6160 - val_loss: 1.3036 - val_acc: 0.7143\n",
      "Epoch 11/50\n",
      "125/125 [==============================] - 0s 2ms/step - loss: 1.1206 - acc: 0.6560 - val_loss: 1.1672 - val_acc: 0.7143\n",
      "Epoch 12/50\n",
      "125/125 [==============================] - 0s 2ms/step - loss: 1.1346 - acc: 0.5920 - val_loss: 1.1884 - val_acc: 0.7143\n",
      "Epoch 13/50\n",
      "125/125 [==============================] - 0s 2ms/step - loss: 1.0114 - acc: 0.7520 - val_loss: 1.1840 - val_acc: 0.7143\n",
      "Epoch 14/50\n",
      "125/125 [==============================] - 0s 2ms/step - loss: 0.9469 - acc: 0.7520 - val_loss: 1.1996 - val_acc: 0.7143\n",
      "Epoch 15/50\n",
      "125/125 [==============================] - 0s 2ms/step - loss: 0.9408 - acc: 0.7120 - val_loss: 1.0665 - val_acc: 0.7143\n",
      "Epoch 16/50\n",
      "125/125 [==============================] - 0s 2ms/step - loss: 0.9164 - acc: 0.7200 - val_loss: 0.9791 - val_acc: 0.7143\n",
      "Epoch 17/50\n",
      "125/125 [==============================] - 0s 2ms/step - loss: 0.8216 - acc: 0.7760 - val_loss: 1.1889 - val_acc: 0.5714\n",
      "Epoch 18/50\n",
      "125/125 [==============================] - 0s 2ms/step - loss: 0.8168 - acc: 0.7760 - val_loss: 0.9513 - val_acc: 0.7143\n",
      "Epoch 19/50\n",
      "125/125 [==============================] - 0s 3ms/step - loss: 0.7936 - acc: 0.7440 - val_loss: 1.0565 - val_acc: 0.7143\n",
      "Epoch 20/50\n",
      "125/125 [==============================] - 0s 2ms/step - loss: 0.7420 - acc: 0.7840 - val_loss: 1.1170 - val_acc: 0.7143\n",
      "Epoch 21/50\n",
      "125/125 [==============================] - 0s 2ms/step - loss: 0.6622 - acc: 0.8240 - val_loss: 1.0211 - val_acc: 0.7143\n",
      "Epoch 22/50\n",
      "125/125 [==============================] - 0s 2ms/step - loss: 0.6880 - acc: 0.8480 - val_loss: 0.5998 - val_acc: 1.0000\n",
      "Epoch 23/50\n",
      "125/125 [==============================] - 0s 2ms/step - loss: 0.5700 - acc: 0.8640 - val_loss: 0.6856 - val_acc: 0.7143\n",
      "Epoch 24/50\n",
      "125/125 [==============================] - 0s 2ms/step - loss: 0.6489 - acc: 0.8240 - val_loss: 0.7609 - val_acc: 0.7143\n",
      "Epoch 25/50\n",
      "125/125 [==============================] - 0s 2ms/step - loss: 0.5095 - acc: 0.8720 - val_loss: 0.5977 - val_acc: 0.8571\n",
      "Epoch 26/50\n",
      "125/125 [==============================] - 0s 2ms/step - loss: 0.5478 - acc: 0.8720 - val_loss: 0.5762 - val_acc: 0.8571\n",
      "Epoch 27/50\n",
      "125/125 [==============================] - 0s 2ms/step - loss: 0.5520 - acc: 0.8560 - val_loss: 0.4328 - val_acc: 0.8571\n",
      "Epoch 28/50\n",
      "125/125 [==============================] - 0s 2ms/step - loss: 0.5300 - acc: 0.8400 - val_loss: 0.4971 - val_acc: 1.0000\n",
      "Epoch 29/50\n",
      "125/125 [==============================] - 0s 2ms/step - loss: 0.5567 - acc: 0.8320 - val_loss: 0.6398 - val_acc: 0.8571\n",
      "Epoch 30/50\n",
      "125/125 [==============================] - 0s 2ms/step - loss: 0.5424 - acc: 0.8480 - val_loss: 0.4050 - val_acc: 1.0000\n",
      "Epoch 31/50\n",
      "125/125 [==============================] - 0s 2ms/step - loss: 0.4092 - acc: 0.9200 - val_loss: 0.5187 - val_acc: 0.8571\n",
      "Epoch 32/50\n",
      "125/125 [==============================] - 0s 2ms/step - loss: 0.4423 - acc: 0.8560 - val_loss: 0.3716 - val_acc: 0.8571\n",
      "Epoch 33/50\n",
      "125/125 [==============================] - 0s 2ms/step - loss: 0.4366 - acc: 0.8880 - val_loss: 0.6817 - val_acc: 0.8571\n",
      "Epoch 34/50\n",
      "125/125 [==============================] - 0s 2ms/step - loss: 0.3675 - acc: 0.9200 - val_loss: 0.5005 - val_acc: 0.8571\n",
      "Epoch 35/50\n",
      "125/125 [==============================] - 0s 2ms/step - loss: 0.3593 - acc: 0.9440 - val_loss: 0.3545 - val_acc: 1.0000\n",
      "Epoch 36/50\n",
      "125/125 [==============================] - 0s 2ms/step - loss: 0.3257 - acc: 0.9040 - val_loss: 0.4171 - val_acc: 0.8571\n",
      "Epoch 37/50\n",
      "125/125 [==============================] - 0s 2ms/step - loss: 0.3835 - acc: 0.8960 - val_loss: 0.5949 - val_acc: 0.8571\n",
      "Epoch 38/50\n",
      "125/125 [==============================] - 0s 2ms/step - loss: 0.3221 - acc: 0.9200 - val_loss: 1.4586 - val_acc: 0.5714\n",
      "Epoch 39/50\n",
      "125/125 [==============================] - 0s 2ms/step - loss: 0.3500 - acc: 0.9040 - val_loss: 0.9493 - val_acc: 0.5714\n",
      "Epoch 40/50\n",
      "125/125 [==============================] - 0s 2ms/step - loss: 0.2661 - acc: 0.9440 - val_loss: 0.5829 - val_acc: 0.7143\n",
      "Epoch 41/50\n",
      "125/125 [==============================] - 0s 2ms/step - loss: 0.3869 - acc: 0.8960 - val_loss: 0.5894 - val_acc: 0.7143\n",
      "Epoch 42/50\n",
      "125/125 [==============================] - 0s 2ms/step - loss: 0.2556 - acc: 0.9360 - val_loss: 1.8121 - val_acc: 0.4286\n",
      "Epoch 43/50\n",
      "125/125 [==============================] - 0s 2ms/step - loss: 0.2901 - acc: 0.9440 - val_loss: 0.4297 - val_acc: 0.8571\n",
      "Epoch 44/50\n",
      "125/125 [==============================] - 0s 2ms/step - loss: 0.3067 - acc: 0.9280 - val_loss: 0.5287 - val_acc: 0.7143\n",
      "Epoch 45/50\n",
      "125/125 [==============================] - 0s 2ms/step - loss: 0.2637 - acc: 0.9440 - val_loss: 0.4990 - val_acc: 0.7143\n",
      "Epoch 46/50\n",
      "125/125 [==============================] - 0s 2ms/step - loss: 0.2282 - acc: 0.9360 - val_loss: 0.6808 - val_acc: 0.7143\n",
      "Epoch 47/50\n",
      "125/125 [==============================] - 0s 2ms/step - loss: 0.2088 - acc: 0.9600 - val_loss: 1.2724 - val_acc: 0.4286\n",
      "Epoch 48/50\n",
      "125/125 [==============================] - 0s 2ms/step - loss: 0.2215 - acc: 0.9440 - val_loss: 0.6200 - val_acc: 0.7143\n",
      "Epoch 49/50\n",
      "125/125 [==============================] - 0s 2ms/step - loss: 0.1864 - acc: 0.9520 - val_loss: 1.9280 - val_acc: 0.4286\n",
      "Epoch 50/50\n",
      "125/125 [==============================] - 0s 2ms/step - loss: 0.2108 - acc: 0.9440 - val_loss: 0.5840 - val_acc: 0.7143\n"
     ]
    }
   ],
   "source": [
    "hist = model.fit(embedding_train, Y_train, epochs=50, batch_size=12,shuffle=True, validation_split=0.05)"
   ]
  },
  {
   "cell_type": "code",
   "execution_count": 38,
   "metadata": {},
   "outputs": [],
   "source": [
    "pred=model.predict_classes(embedding_test)"
   ]
  },
  {
   "cell_type": "code",
   "execution_count": 39,
   "metadata": {},
   "outputs": [],
   "source": [
    "acc=float(sum(pred==Y_test))/embedding_test.shape[0]"
   ]
  },
  {
   "cell_type": "code",
   "execution_count": 41,
   "metadata": {},
   "outputs": [
    {
     "name": "stdout",
     "output_type": "stream",
     "text": [
      "0.6964285714285714\n"
     ]
    }
   ],
   "source": [
    "print(acc)"
   ]
  },
  {
   "cell_type": "code",
   "execution_count": 56,
   "metadata": {},
   "outputs": [],
   "source": [
    "def print_emoji(label):\n",
    "    return emoji.emojize(emoji_dict[label], use_aliases=True)"
   ]
  },
  {
   "cell_type": "code",
   "execution_count": 57,
   "metadata": {},
   "outputs": [
    {
     "ename": "KeyError",
     "evalue": "2",
     "output_type": "error",
     "traceback": [
      "\u001b[0;31m---------------------------------------------------------------------------\u001b[0m",
      "\u001b[0;31mKeyError\u001b[0m                                  Traceback (most recent call last)",
      "\u001b[0;32m<ipython-input-57-5b6b61f05314>\u001b[0m in \u001b[0;36m<module>\u001b[0;34m\u001b[0m\n\u001b[1;32m      2\u001b[0m \u001b[0;34m\u001b[0m\u001b[0m\n\u001b[1;32m      3\u001b[0m     \u001b[0;32mif\u001b[0m \u001b[0mpred\u001b[0m\u001b[0;34m[\u001b[0m\u001b[0mix\u001b[0m\u001b[0;34m]\u001b[0m \u001b[0;34m!=\u001b[0m \u001b[0mY_test\u001b[0m\u001b[0;34m[\u001b[0m\u001b[0mix\u001b[0m\u001b[0;34m]\u001b[0m\u001b[0;34m:\u001b[0m\u001b[0;34m\u001b[0m\u001b[0;34m\u001b[0m\u001b[0m\n\u001b[0;32m----> 4\u001b[0;31m         \u001b[0mprint\u001b[0m \u001b[0;34m(\u001b[0m\u001b[0mX_test\u001b[0m\u001b[0;34m[\u001b[0m\u001b[0mix\u001b[0m\u001b[0;34m]\u001b[0m\u001b[0;34m,\u001b[0m \u001b[0mprint_emoji\u001b[0m\u001b[0;34m(\u001b[0m\u001b[0mY_test\u001b[0m\u001b[0;34m[\u001b[0m\u001b[0mix\u001b[0m\u001b[0;34m]\u001b[0m\u001b[0;34m)\u001b[0m\u001b[0;34m,\u001b[0m \u001b[0mprint_emoji\u001b[0m\u001b[0;34m(\u001b[0m\u001b[0mpred\u001b[0m\u001b[0;34m[\u001b[0m\u001b[0mix\u001b[0m\u001b[0;34m]\u001b[0m\u001b[0;34m)\u001b[0m\u001b[0;34m)\u001b[0m\u001b[0;34m\u001b[0m\u001b[0;34m\u001b[0m\u001b[0m\n\u001b[0m",
      "\u001b[0;32m<ipython-input-56-70250568a6a9>\u001b[0m in \u001b[0;36mprint_emoji\u001b[0;34m(label)\u001b[0m\n\u001b[1;32m      1\u001b[0m \u001b[0;32mdef\u001b[0m \u001b[0mprint_emoji\u001b[0m\u001b[0;34m(\u001b[0m\u001b[0mlabel\u001b[0m\u001b[0;34m)\u001b[0m\u001b[0;34m:\u001b[0m\u001b[0;34m\u001b[0m\u001b[0;34m\u001b[0m\u001b[0m\n\u001b[0;32m----> 2\u001b[0;31m     \u001b[0;32mreturn\u001b[0m \u001b[0memoji\u001b[0m\u001b[0;34m.\u001b[0m\u001b[0memojize\u001b[0m\u001b[0;34m(\u001b[0m\u001b[0memoji_dict\u001b[0m\u001b[0;34m[\u001b[0m\u001b[0mlabel\u001b[0m\u001b[0;34m]\u001b[0m\u001b[0;34m,\u001b[0m \u001b[0muse_aliases\u001b[0m\u001b[0;34m=\u001b[0m\u001b[0;32mTrue\u001b[0m\u001b[0;34m)\u001b[0m\u001b[0;34m\u001b[0m\u001b[0;34m\u001b[0m\u001b[0m\n\u001b[0m",
      "\u001b[0;31mKeyError\u001b[0m: 2"
     ]
    }
   ],
   "source": [
    "for ix in range(embedding_test.shape[0]):\n",
    "    \n",
    "    if pred[ix] != Y_test[ix]:\n",
    "        print (X_test[ix], print_emoji(Y_test[ix]), print_emoji(pred[ix]))"
   ]
  },
  {
   "cell_type": "code",
   "execution_count": null,
   "metadata": {},
   "outputs": [],
   "source": []
  }
 ],
 "metadata": {
  "kernelspec": {
   "display_name": "Python 3",
   "language": "python",
   "name": "python3"
  },
  "language_info": {
   "codemirror_mode": {
    "name": "ipython",
    "version": 3
   },
   "file_extension": ".py",
   "mimetype": "text/x-python",
   "name": "python",
   "nbconvert_exporter": "python",
   "pygments_lexer": "ipython3",
   "version": "3.6.8"
  }
 },
 "nbformat": 4,
 "nbformat_minor": 2
}
