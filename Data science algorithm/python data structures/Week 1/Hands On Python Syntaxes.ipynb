{
 "cells": [
  {
   "cell_type": "markdown",
   "id": "ade10aee",
   "metadata": {},
   "source": [
    "# Python\n",
    "\n",
    "Python is a high level programming language that helps the programmers to communicate with computer. It allows you to express your powerful ideas within a few lines of code.\n",
    "\n",
    "Algorithm+Programming Rules---->Code"
   ]
  },
  {
   "cell_type": "markdown",
   "id": "15731f46",
   "metadata": {},
   "source": [
    "# Integers: It is a number without a decimal component"
   ]
  },
  {
   "cell_type": "code",
   "execution_count": 2,
   "id": "1d5241eb",
   "metadata": {},
   "outputs": [
    {
     "data": {
      "text/plain": [
       "7"
      ]
     },
     "execution_count": 2,
     "metadata": {},
     "output_type": "execute_result"
    }
   ],
   "source": [
    "a=7\n",
    "a"
   ]
  },
  {
   "cell_type": "code",
   "execution_count": 3,
   "id": "4f383cfb",
   "metadata": {},
   "outputs": [
    {
     "data": {
      "text/plain": [
       "21111111111111111111111"
      ]
     },
     "execution_count": 3,
     "metadata": {},
     "output_type": "execute_result"
    }
   ],
   "source": [
    "b=21111111111111111111111\n",
    "b"
   ]
  },
  {
   "cell_type": "code",
   "execution_count": 7,
   "id": "35ad98b3",
   "metadata": {},
   "outputs": [
    {
     "name": "stdout",
     "output_type": "stream",
     "text": [
      "Hello Everyone my number a is----> 7\n"
     ]
    }
   ],
   "source": [
    "print('Hello Everyone my number a is---->',a)"
   ]
  },
  {
   "cell_type": "code",
   "execution_count": 8,
   "id": "c4eb0405",
   "metadata": {},
   "outputs": [
    {
     "data": {
      "text/plain": [
       "int"
      ]
     },
     "execution_count": 8,
     "metadata": {},
     "output_type": "execute_result"
    }
   ],
   "source": [
    "type(a)\n"
   ]
  },
  {
   "cell_type": "markdown",
   "id": "09225a5e",
   "metadata": {},
   "source": [
    "# Float"
   ]
  },
  {
   "cell_type": "markdown",
   "id": "0a11cfa6",
   "metadata": {},
   "source": [
    "Float can be created by adding a decimal component to a number"
   ]
  },
  {
   "cell_type": "code",
   "execution_count": 12,
   "id": "63f49104",
   "metadata": {},
   "outputs": [],
   "source": [
    "number=3.51"
   ]
  },
  {
   "cell_type": "code",
   "execution_count": 13,
   "id": "185aade7",
   "metadata": {},
   "outputs": [
    {
     "data": {
      "text/plain": [
       "float"
      ]
     },
     "execution_count": 13,
     "metadata": {},
     "output_type": "execute_result"
    }
   ],
   "source": [
    "type(number)"
   ]
  },
  {
   "cell_type": "code",
   "execution_count": 15,
   "id": "43fe83c0",
   "metadata": {},
   "outputs": [],
   "source": [
    "number2=3"
   ]
  },
  {
   "cell_type": "code",
   "execution_count": 17,
   "id": "9f8db1a0",
   "metadata": {},
   "outputs": [
    {
     "data": {
      "text/plain": [
       "float"
      ]
     },
     "execution_count": 17,
     "metadata": {},
     "output_type": "execute_result"
    }
   ],
   "source": [
    "sum1=number2+number\n",
    "type(sum1)"
   ]
  },
  {
   "cell_type": "code",
   "execution_count": 18,
   "id": "e9a15a31",
   "metadata": {},
   "outputs": [
    {
     "name": "stdout",
     "output_type": "stream",
     "text": [
      "Hello Everyone the sum of number is----> 6.51\n"
     ]
    }
   ],
   "source": [
    "print(\"Hello Everyone the sum of number is---->\",sum1)"
   ]
  },
  {
   "cell_type": "code",
   "execution_count": 19,
   "id": "5ed22398",
   "metadata": {},
   "outputs": [
    {
     "data": {
      "text/plain": [
       "8"
      ]
     },
     "execution_count": 19,
     "metadata": {},
     "output_type": "execute_result"
    }
   ],
   "source": [
    "3+5"
   ]
  },
  {
   "cell_type": "code",
   "execution_count": 20,
   "id": "5d24e479",
   "metadata": {},
   "outputs": [
    {
     "data": {
      "text/plain": [
       "2"
      ]
     },
     "execution_count": 20,
     "metadata": {},
     "output_type": "execute_result"
    }
   ],
   "source": [
    "3-1"
   ]
  },
  {
   "cell_type": "code",
   "execution_count": 21,
   "id": "319a8155",
   "metadata": {},
   "outputs": [
    {
     "data": {
      "text/plain": [
       "1.5"
      ]
     },
     "execution_count": 21,
     "metadata": {},
     "output_type": "execute_result"
    }
   ],
   "source": [
    "3/2"
   ]
  },
  {
   "cell_type": "code",
   "execution_count": 22,
   "id": "27ce38d1",
   "metadata": {},
   "outputs": [
    {
     "data": {
      "text/plain": [
       "1.5"
      ]
     },
     "execution_count": 22,
     "metadata": {},
     "output_type": "execute_result"
    }
   ],
   "source": [
    "1.5"
   ]
  },
  {
   "cell_type": "markdown",
   "id": "dad98fac",
   "metadata": {},
   "source": [
    "# Strings\n",
    "\n",
    "1. Strings can be defined with any of single(') or double(\") or triple quotes(''')\n",
    "2. String are immutable that means strings characters values cannot be changed.\n",
    "\n"
   ]
  },
  {
   "cell_type": "code",
   "execution_count": 23,
   "id": "64e62859",
   "metadata": {},
   "outputs": [
    {
     "data": {
      "text/plain": [
       "'Inder'"
      ]
     },
     "execution_count": 23,
     "metadata": {},
     "output_type": "execute_result"
    }
   ],
   "source": [
    "name=\"Inder\"\n",
    "name"
   ]
  },
  {
   "cell_type": "code",
   "execution_count": 24,
   "id": "7e5b1b65",
   "metadata": {},
   "outputs": [
    {
     "data": {
      "text/plain": [
       "str"
      ]
     },
     "execution_count": 24,
     "metadata": {},
     "output_type": "execute_result"
    }
   ],
   "source": [
    "type(name)"
   ]
  },
  {
   "cell_type": "code",
   "execution_count": 28,
   "id": "81d58866",
   "metadata": {},
   "outputs": [
    {
     "data": {
      "text/plain": [
       "str"
      ]
     },
     "execution_count": 28,
     "metadata": {},
     "output_type": "execute_result"
    }
   ],
   "source": [
    "sentence=\"Hi Everyone my name is inderpreet\"\n",
    "type(sentence)"
   ]
  },
  {
   "cell_type": "code",
   "execution_count": 29,
   "id": "69b759df",
   "metadata": {},
   "outputs": [
    {
     "data": {
      "text/plain": [
       "str"
      ]
     },
     "execution_count": 29,
     "metadata": {},
     "output_type": "execute_result"
    }
   ],
   "source": [
    "char='a'\n",
    "type(char)"
   ]
  },
  {
   "cell_type": "code",
   "execution_count": 31,
   "id": "424b2d17",
   "metadata": {},
   "outputs": [
    {
     "data": {
      "text/plain": [
       "str"
      ]
     },
     "execution_count": 31,
     "metadata": {},
     "output_type": "execute_result"
    }
   ],
   "source": [
    "char2='3'\n",
    "type(char2)"
   ]
  },
  {
   "cell_type": "code",
   "execution_count": 33,
   "id": "09f00857",
   "metadata": {},
   "outputs": [
    {
     "data": {
      "text/plain": [
       "'Inder'"
      ]
     },
     "execution_count": 33,
     "metadata": {},
     "output_type": "execute_result"
    }
   ],
   "source": [
    "name='Inder'\n",
    "name"
   ]
  },
  {
   "cell_type": "code",
   "execution_count": 34,
   "id": "581b1582",
   "metadata": {},
   "outputs": [
    {
     "data": {
      "text/plain": [
       "'Ind'"
      ]
     },
     "execution_count": 34,
     "metadata": {},
     "output_type": "execute_result"
    }
   ],
   "source": [
    "name='Ind' # When we create the variable with same name it overwrites the computer memory\n",
    "\n",
    "name"
   ]
  },
  {
   "cell_type": "code",
   "execution_count": 48,
   "id": "aedadf7c",
   "metadata": {},
   "outputs": [
    {
     "data": {
      "text/plain": [
       "'d'"
      ]
     },
     "execution_count": 48,
     "metadata": {},
     "output_type": "execute_result"
    }
   ],
   "source": [
    "chr(100)   #Unicode \n"
   ]
  },
  {
   "cell_type": "code",
   "execution_count": 49,
   "id": "1f835dbd",
   "metadata": {},
   "outputs": [
    {
     "data": {
      "text/plain": [
       "'A'"
      ]
     },
     "execution_count": 49,
     "metadata": {},
     "output_type": "execute_result"
    }
   ],
   "source": [
    "chr(65)"
   ]
  },
  {
   "cell_type": "markdown",
   "id": "4b271038",
   "metadata": {},
   "source": [
    "# chr\n",
    "\n",
    "The chr() method returns a string representing a character whose unicode or decimal is an integer\n",
    "\n",
    "Syntax: chr(num)"
   ]
  },
  {
   "cell_type": "markdown",
   "id": "b04d4d75",
   "metadata": {},
   "source": [
    "# ord ---> Returns the unicode from the given character"
   ]
  },
  {
   "cell_type": "code",
   "execution_count": 50,
   "id": "05b1c6ee",
   "metadata": {},
   "outputs": [
    {
     "data": {
      "text/plain": [
       "65"
      ]
     },
     "execution_count": 50,
     "metadata": {},
     "output_type": "execute_result"
    }
   ],
   "source": [
    "ord('A') "
   ]
  },
  {
   "cell_type": "code",
   "execution_count": 51,
   "id": "1e5d216d",
   "metadata": {},
   "outputs": [
    {
     "data": {
      "text/plain": [
       "97"
      ]
     },
     "execution_count": 51,
     "metadata": {},
     "output_type": "execute_result"
    }
   ],
   "source": [
    "ord('a')"
   ]
  },
  {
   "cell_type": "code",
   "execution_count": 52,
   "id": "509f73bd",
   "metadata": {},
   "outputs": [
    {
     "data": {
      "text/plain": [
       "42"
      ]
     },
     "execution_count": 52,
     "metadata": {},
     "output_type": "execute_result"
    }
   ],
   "source": [
    "ord('*')"
   ]
  },
  {
   "cell_type": "code",
   "execution_count": 54,
   "id": "48f41d83",
   "metadata": {},
   "outputs": [
    {
     "data": {
      "text/plain": [
       "38"
      ]
     },
     "execution_count": 54,
     "metadata": {},
     "output_type": "execute_result"
    }
   ],
   "source": [
    "ord('&')"
   ]
  },
  {
   "cell_type": "code",
   "execution_count": 57,
   "id": "c0007534",
   "metadata": {},
   "outputs": [
    {
     "data": {
      "text/plain": [
       "51"
      ]
     },
     "execution_count": 57,
     "metadata": {},
     "output_type": "execute_result"
    }
   ],
   "source": [
    "ord('3')"
   ]
  },
  {
   "cell_type": "code",
   "execution_count": 58,
   "id": "89e64bb6",
   "metadata": {},
   "outputs": [
    {
     "data": {
      "text/plain": [
       "'A'"
      ]
     },
     "execution_count": 58,
     "metadata": {},
     "output_type": "execute_result"
    }
   ],
   "source": [
    "chr(65)"
   ]
  },
  {
   "cell_type": "markdown",
   "id": "bf1797c2",
   "metadata": {},
   "source": [
    "# Boolean \n",
    "\n",
    "Boolean can be defined by typing True/False"
   ]
  },
  {
   "cell_type": "code",
   "execution_count": 59,
   "id": "6c8714db",
   "metadata": {},
   "outputs": [
    {
     "data": {
      "text/plain": [
       "bool"
      ]
     },
     "execution_count": 59,
     "metadata": {},
     "output_type": "execute_result"
    }
   ],
   "source": [
    "x=True\n",
    "\n",
    "type(x)"
   ]
  },
  {
   "cell_type": "code",
   "execution_count": 60,
   "id": "8413ade9",
   "metadata": {},
   "outputs": [
    {
     "data": {
      "text/plain": [
       "3"
      ]
     },
     "execution_count": 60,
     "metadata": {},
     "output_type": "execute_result"
    }
   ],
   "source": [
    "a=3\n",
    "a"
   ]
  },
  {
   "cell_type": "code",
   "execution_count": 61,
   "id": "91bd4805",
   "metadata": {},
   "outputs": [
    {
     "data": {
      "text/plain": [
       "False"
      ]
     },
     "execution_count": 61,
     "metadata": {},
     "output_type": "execute_result"
    }
   ],
   "source": [
    "a==5"
   ]
  },
  {
   "cell_type": "code",
   "execution_count": 62,
   "id": "9c2eba69",
   "metadata": {},
   "outputs": [
    {
     "data": {
      "text/plain": [
       "True"
      ]
     },
     "execution_count": 62,
     "metadata": {},
     "output_type": "execute_result"
    }
   ],
   "source": [
    "b=3\n",
    "\n",
    "b==3"
   ]
  },
  {
   "cell_type": "code",
   "execution_count": 71,
   "id": "0e5fc220",
   "metadata": {},
   "outputs": [
    {
     "ename": "SyntaxError",
     "evalue": "invalid syntax (Temp/ipykernel_26616/2063848611.py, line 3)",
     "output_type": "error",
     "traceback": [
      "\u001b[1;36m  File \u001b[1;32m\"C:\\Users\\sidak\\AppData\\Local\\Temp/ipykernel_26616/2063848611.py\"\u001b[1;36m, line \u001b[1;32m3\u001b[0m\n\u001b[1;33m    00000000000000000000000000000000000000000000000000000000000000000000000000000000000)\u001b[0m\n\u001b[1;37m                                                                                      ^\u001b[0m\n\u001b[1;31mSyntaxError\u001b[0m\u001b[1;31m:\u001b[0m invalid syntax\n"
     ]
    }
   ],
   "source": [
    "import sys\n",
    "sys.getsizeof(100000000000000000000000000000000000000000000000000000000000000000000000000000000000000000000000)"
   ]
  },
  {
   "cell_type": "markdown",
   "id": "858dd5ca",
   "metadata": {},
   "source": [
    "# sys.getsizeof\n",
    "\n",
    "This function accepts an integer or any different data types and return the memory used by that data type"
   ]
  },
  {
   "cell_type": "code",
   "execution_count": 74,
   "id": "3524f24d",
   "metadata": {},
   "outputs": [
    {
     "data": {
      "text/plain": [
       "63"
      ]
     },
     "execution_count": 74,
     "metadata": {},
     "output_type": "execute_result"
    }
   ],
   "source": [
    "sys.getsizeof('Hi how ar eyou')"
   ]
  },
  {
   "cell_type": "code",
   "execution_count": 75,
   "id": "c1d6a844",
   "metadata": {},
   "outputs": [
    {
     "data": {
      "text/plain": [
       "12222222222222222222222222222222222222222222222222222222222222222222222222"
      ]
     },
     "execution_count": 75,
     "metadata": {},
     "output_type": "execute_result"
    }
   ],
   "source": [
    "a=12222222222222222222222222222222222222222222222222222222222222222222222222\n",
    "a"
   ]
  },
  {
   "cell_type": "code",
   "execution_count": null,
   "id": "2ecdd796",
   "metadata": {},
   "outputs": [],
   "source": [
    "# import calculator\n",
    "\n",
    "# calculator(3+5)"
   ]
  },
  {
   "cell_type": "code",
   "execution_count": 76,
   "id": "5d6d1527",
   "metadata": {},
   "outputs": [
    {
     "data": {
      "text/plain": [
       "'n'"
      ]
     },
     "execution_count": 76,
     "metadata": {},
     "output_type": "execute_result"
    }
   ],
   "source": [
    "Name='Inderpreet'\n",
    "Name[1]"
   ]
  },
  {
   "cell_type": "code",
   "execution_count": 77,
   "id": "4ffd64d7",
   "metadata": {},
   "outputs": [
    {
     "data": {
      "text/plain": [
       "'e'"
      ]
     },
     "execution_count": 77,
     "metadata": {},
     "output_type": "execute_result"
    }
   ],
   "source": [
    "Name[7]"
   ]
  },
  {
   "cell_type": "code",
   "execution_count": 79,
   "id": "dc23f3e5",
   "metadata": {},
   "outputs": [
    {
     "ename": "TypeError",
     "evalue": "'str' object does not support item assignment",
     "output_type": "error",
     "traceback": [
      "\u001b[1;31m---------------------------------------------------------------------------\u001b[0m",
      "\u001b[1;31mTypeError\u001b[0m                                 Traceback (most recent call last)",
      "\u001b[1;32m~\\AppData\\Local\\Temp/ipykernel_26616/1921107714.py\u001b[0m in \u001b[0;36m<module>\u001b[1;34m\u001b[0m\n\u001b[1;32m----> 1\u001b[1;33m \u001b[0mName\u001b[0m\u001b[1;33m[\u001b[0m\u001b[1;36m7\u001b[0m\u001b[1;33m]\u001b[0m\u001b[1;33m=\u001b[0m\u001b[1;34m'f'\u001b[0m\u001b[1;33m\u001b[0m\u001b[1;33m\u001b[0m\u001b[0m\n\u001b[0m",
      "\u001b[1;31mTypeError\u001b[0m: 'str' object does not support item assignment"
     ]
    }
   ],
   "source": [
    "Name[7]='f'"
   ]
  },
  {
   "cell_type": "code",
   "execution_count": 80,
   "id": "6c8bce11",
   "metadata": {},
   "outputs": [
    {
     "data": {
      "text/plain": [
       "'Samnath'"
      ]
     },
     "execution_count": 80,
     "metadata": {},
     "output_type": "execute_result"
    }
   ],
   "source": [
    "Name='Samnath'\n",
    "Name"
   ]
  },
  {
   "cell_type": "markdown",
   "id": "18563d85",
   "metadata": {},
   "source": [
    "# String Indexing\n",
    "\n",
    "Strings are a sequence which means we can use indexes to call the sequence parts\n",
    "\n",
    "How Indexing work:\n",
    "\n",
    "1. We use [] after an object to call its index\n"
   ]
  },
  {
   "cell_type": "markdown",
   "id": "46612d21",
   "metadata": {},
   "source": [
    "# Slicing in Strings\n",
    "\n",
    "We are cutting about a substring from the main string\n"
   ]
  },
  {
   "cell_type": "code",
   "execution_count": 82,
   "id": "41d6c6eb",
   "metadata": {},
   "outputs": [
    {
     "data": {
      "text/plain": [
       "'INDER'"
      ]
     },
     "execution_count": 82,
     "metadata": {},
     "output_type": "execute_result"
    }
   ],
   "source": [
    "Name='INDERPREET'\n",
    "Name[0:4]"
   ]
  },
  {
   "cell_type": "code",
   "execution_count": 83,
   "id": "137149fe",
   "metadata": {},
   "outputs": [
    {
     "data": {
      "text/plain": [
       "'DERPR'"
      ]
     },
     "execution_count": 83,
     "metadata": {},
     "output_type": "execute_result"
    }
   ],
   "source": [
    "Name[2:7]"
   ]
  },
  {
   "cell_type": "code",
   "execution_count": 84,
   "id": "4f5144c2",
   "metadata": {},
   "outputs": [
    {
     "data": {
      "text/plain": [
       "'lo how are'"
      ]
     },
     "execution_count": 84,
     "metadata": {},
     "output_type": "execute_result"
    }
   ],
   "source": [
    "String2=\"Hello how are you\"\n",
    "String2[3:13]"
   ]
  },
  {
   "cell_type": "code",
   "execution_count": 110,
   "id": "c8f20daf",
   "metadata": {},
   "outputs": [
    {
     "data": {
      "text/plain": [
       "'d'"
      ]
     },
     "execution_count": 110,
     "metadata": {},
     "output_type": "execute_result"
    }
   ],
   "source": [
    "Name='Jagdeeshwar'\n",
    "\n",
    "Name[3:7:10]"
   ]
  },
  {
   "cell_type": "code",
   "execution_count": 111,
   "id": "58e4fc96",
   "metadata": {},
   "outputs": [],
   "source": [
    "#Negative Indexing starts from R-------->l"
   ]
  },
  {
   "cell_type": "code",
   "execution_count": 122,
   "id": "0a46a77c",
   "metadata": {},
   "outputs": [
    {
     "data": {
      "text/plain": [
       "'aprava$@'"
      ]
     },
     "execution_count": 122,
     "metadata": {},
     "output_type": "execute_result"
    }
   ],
   "source": [
    "Name='Arkaprava$@'\n",
    "Name[3:]"
   ]
  },
  {
   "cell_type": "code",
   "execution_count": 124,
   "id": "41ca1b9f",
   "metadata": {},
   "outputs": [
    {
     "data": {
      "text/plain": [
       "'ka'"
      ]
     },
     "execution_count": 124,
     "metadata": {},
     "output_type": "execute_result"
    }
   ],
   "source": [
    "Name[2:-7]"
   ]
  },
  {
   "cell_type": "code",
   "execution_count": 127,
   "id": "1aac29b4",
   "metadata": {},
   "outputs": [
    {
     "data": {
      "text/plain": [
       "'rkapr'"
      ]
     },
     "execution_count": 127,
     "metadata": {},
     "output_type": "execute_result"
    }
   ],
   "source": [
    "Name[1:-5]"
   ]
  },
  {
   "cell_type": "code",
   "execution_count": 135,
   "id": "bb55bb07",
   "metadata": {},
   "outputs": [
    {
     "data": {
      "text/plain": [
       "'@#$%^&'"
      ]
     },
     "execution_count": 135,
     "metadata": {},
     "output_type": "execute_result"
    }
   ],
   "source": [
    "Name='!@#$%^&*'\n",
    "\n",
    "Name[1:-1]"
   ]
  },
  {
   "cell_type": "code",
   "execution_count": 146,
   "id": "76978585",
   "metadata": {},
   "outputs": [
    {
     "data": {
      "text/plain": [
       "'^&*'"
      ]
     },
     "execution_count": 146,
     "metadata": {},
     "output_type": "execute_result"
    }
   ],
   "source": [
    "#^&*\n",
    "\n",
    "Name[-3:]"
   ]
  },
  {
   "cell_type": "markdown",
   "id": "abb4f269",
   "metadata": {},
   "source": [
    "# Concatenation\n",
    "\n",
    "Concatenation we are combining a string with another string"
   ]
  },
  {
   "cell_type": "code",
   "execution_count": 130,
   "id": "f801da8e",
   "metadata": {},
   "outputs": [
    {
     "data": {
      "text/plain": [
       "'Inderpreet'"
      ]
     },
     "execution_count": 130,
     "metadata": {},
     "output_type": "execute_result"
    }
   ],
   "source": [
    "Name='Inderpreet'\n",
    "Name"
   ]
  },
  {
   "cell_type": "code",
   "execution_count": 131,
   "id": "a4d952d9",
   "metadata": {},
   "outputs": [
    {
     "data": {
      "text/plain": [
       "'Walia'"
      ]
     },
     "execution_count": 131,
     "metadata": {},
     "output_type": "execute_result"
    }
   ],
   "source": [
    "Surname=\"Walia\"\n",
    "Surname"
   ]
  },
  {
   "cell_type": "code",
   "execution_count": 133,
   "id": "5ba3864f",
   "metadata": {},
   "outputs": [
    {
     "data": {
      "text/plain": [
       "'Inderpreet Walia'"
      ]
     },
     "execution_count": 133,
     "metadata": {},
     "output_type": "execute_result"
    }
   ],
   "source": [
    "Name+' '+Surname"
   ]
  },
  {
   "cell_type": "markdown",
   "id": "b1a0c1d1",
   "metadata": {},
   "source": [
    "# Basic Build in String Functions"
   ]
  },
  {
   "cell_type": "code",
   "execution_count": 148,
   "id": "e5d04edc",
   "metadata": {},
   "outputs": [
    {
     "data": {
      "text/plain": [
       "'INDERPREET'"
      ]
     },
     "execution_count": 148,
     "metadata": {},
     "output_type": "execute_result"
    }
   ],
   "source": [
    "Name=\"Inderpreet\"\n",
    "\n",
    "Name=Name.upper()\n",
    "Name"
   ]
  },
  {
   "cell_type": "code",
   "execution_count": 150,
   "id": "fcf09262",
   "metadata": {},
   "outputs": [
    {
     "data": {
      "text/plain": [
       "'inderpreet'"
      ]
     },
     "execution_count": 150,
     "metadata": {},
     "output_type": "execute_result"
    }
   ],
   "source": [
    "Name.lower()"
   ]
  },
  {
   "cell_type": "code",
   "execution_count": 152,
   "id": "3ff21df1",
   "metadata": {},
   "outputs": [
    {
     "data": {
      "text/plain": [
       "['In', 'er%singh']"
      ]
     },
     "execution_count": 152,
     "metadata": {},
     "output_type": "execute_result"
    }
   ],
   "source": [
    "Word=\"Inder%singh\"\n",
    "Word.split('d')"
   ]
  },
  {
   "cell_type": "code",
   "execution_count": 156,
   "id": "f15aae16",
   "metadata": {},
   "outputs": [
    {
     "data": {
      "text/plain": [
       "'h'"
      ]
     },
     "execution_count": 156,
     "metadata": {},
     "output_type": "execute_result"
    }
   ],
   "source": [
    "Word[-1]"
   ]
  },
  {
   "cell_type": "code",
   "execution_count": 155,
   "id": "b745b968",
   "metadata": {},
   "outputs": [
    {
     "data": {
      "text/plain": [
       "['Inder%sing', '']"
      ]
     },
     "execution_count": 155,
     "metadata": {},
     "output_type": "execute_result"
    }
   ],
   "source": [
    "Word.split(Word[-1])"
   ]
  },
  {
   "cell_type": "code",
   "execution_count": 153,
   "id": "116e0ae8",
   "metadata": {},
   "outputs": [
    {
     "data": {
      "text/plain": [
       "['Hello', 'How', 'are', 'you']"
      ]
     },
     "execution_count": 153,
     "metadata": {},
     "output_type": "execute_result"
    }
   ],
   "source": [
    "Sentence=\"Hello How are you\"\n",
    "Sentence.split()"
   ]
  },
  {
   "cell_type": "code",
   "execution_count": 159,
   "id": "c85ad109",
   "metadata": {},
   "outputs": [
    {
     "data": {
      "text/plain": [
       "['b', 'm', 'ns', 'sd']"
      ]
     },
     "execution_count": 159,
     "metadata": {},
     "output_type": "execute_result"
    }
   ],
   "source": [
    "Word='bAmAnsAsd'\n",
    "Word.split('A')"
   ]
  },
  {
   "cell_type": "code",
   "execution_count": 161,
   "id": "fd46276f",
   "metadata": {},
   "outputs": [],
   "source": [
    "Sentence=\"Hello everyone today we had a amazing sessions\""
   ]
  },
  {
   "cell_type": "code",
   "execution_count": 162,
   "id": "59087b44",
   "metadata": {},
   "outputs": [
    {
     "data": {
      "text/plain": [
       "4"
      ]
     },
     "execution_count": 162,
     "metadata": {},
     "output_type": "execute_result"
    }
   ],
   "source": [
    "Sentence.count('o')"
   ]
  },
  {
   "cell_type": "code",
   "execution_count": 164,
   "id": "3249997f",
   "metadata": {},
   "outputs": [
    {
     "data": {
      "text/plain": [
       "15"
      ]
     },
     "execution_count": 164,
     "metadata": {},
     "output_type": "execute_result"
    }
   ],
   "source": [
    "Sentence.find('t')"
   ]
  },
  {
   "cell_type": "code",
   "execution_count": 169,
   "id": "99f655b9",
   "metadata": {},
   "outputs": [
    {
     "data": {
      "text/plain": [
       "0"
      ]
     },
     "execution_count": 169,
     "metadata": {},
     "output_type": "execute_result"
    }
   ],
   "source": [
    "word ='AmAsnAsd'\n",
    "word.find('A')"
   ]
  },
  {
   "cell_type": "markdown",
   "id": "b924f4cb",
   "metadata": {},
   "source": [
    "# String check methods"
   ]
  },
  {
   "cell_type": "markdown",
   "id": "6af165ed",
   "metadata": {},
   "source": [
    "isalnum() --> will return true if all characters in the string are alphanumeric"
   ]
  },
  {
   "cell_type": "code",
   "execution_count": 166,
   "id": "ffa14418",
   "metadata": {},
   "outputs": [
    {
     "data": {
      "text/plain": [
       "True"
      ]
     },
     "execution_count": 166,
     "metadata": {},
     "output_type": "execute_result"
    }
   ],
   "source": [
    "Name=\"Inder1234\"\n",
    "Name.isalnum()"
   ]
  },
  {
   "cell_type": "markdown",
   "id": "54ddde78",
   "metadata": {},
   "source": [
    "isalpha()----> will return True if any alphabet is present\n",
    "\n"
   ]
  },
  {
   "cell_type": "code",
   "execution_count": 170,
   "id": "5c2f874d",
   "metadata": {},
   "outputs": [
    {
     "data": {
      "text/plain": [
       "True"
      ]
     },
     "execution_count": 170,
     "metadata": {},
     "output_type": "execute_result"
    }
   ],
   "source": [
    "Name=\"Aman\"\n",
    "Name.isalpha()"
   ]
  },
  {
   "cell_type": "markdown",
   "id": "f707e8cd",
   "metadata": {},
   "source": [
    "islower()--> will return True if alphaebets are in lowercase"
   ]
  },
  {
   "cell_type": "code",
   "execution_count": 172,
   "id": "de02030a",
   "metadata": {},
   "outputs": [
    {
     "data": {
      "text/plain": [
       "True"
      ]
     },
     "execution_count": 172,
     "metadata": {},
     "output_type": "execute_result"
    }
   ],
   "source": [
    "Name='rohan'\n",
    "Name.islower()"
   ]
  },
  {
   "cell_type": "code",
   "execution_count": 179,
   "id": "a4645c91",
   "metadata": {},
   "outputs": [
    {
     "data": {
      "text/plain": [
       "8"
      ]
     },
     "execution_count": 179,
     "metadata": {},
     "output_type": "execute_result"
    }
   ],
   "source": [
    "Name='Inderpreet'\n",
    "\n",
    "Name.find('e',8)"
   ]
  },
  {
   "cell_type": "code",
   "execution_count": null,
   "id": "de4d5972",
   "metadata": {},
   "outputs": [],
   "source": []
  }
 ],
 "metadata": {
  "kernelspec": {
   "display_name": "Python 3 (ipykernel)",
   "language": "python",
   "name": "python3"
  },
  "language_info": {
   "codemirror_mode": {
    "name": "ipython",
    "version": 3
   },
   "file_extension": ".py",
   "mimetype": "text/x-python",
   "name": "python",
   "nbconvert_exporter": "python",
   "pygments_lexer": "ipython3",
   "version": "3.7.6"
  }
 },
 "nbformat": 4,
 "nbformat_minor": 5
}
