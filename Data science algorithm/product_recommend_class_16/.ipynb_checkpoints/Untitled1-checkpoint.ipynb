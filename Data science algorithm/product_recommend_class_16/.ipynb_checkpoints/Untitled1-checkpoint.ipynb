{
 "cells": [
  {
   "cell_type": "code",
   "execution_count": 1,
   "metadata": {},
   "outputs": [],
   "source": [
    "from glove_vec import read_glove_vectors\n",
    "from sklearn.metrics.pairwise import cosine_similarity\n",
    "import numpy as np"
   ]
  },
  {
   "cell_type": "code",
   "execution_count": 2,
   "metadata": {},
   "outputs": [],
   "source": [
    "wordembed=read_glove_vectors('./glove.6B.50d.txt')"
   ]
  },
  {
   "cell_type": "code",
   "execution_count": 3,
   "metadata": {},
   "outputs": [
    {
     "data": {
      "text/plain": [
       "array([-0.36661 ,  1.0584  , -0.65378 ,  0.17674 ,  1.0605  , -0.72541 ,\n",
       "       -0.009721,  0.07969 , -0.4649  , -0.74347 , -0.64147 , -0.16837 ,\n",
       "       -0.48926 ,  0.56673 ,  0.73102 ,  0.18387 ,  0.34366 , -0.19158 ,\n",
       "        0.066052, -1.3434  ,  0.50813 , -0.21998 ,  0.46182 ,  0.65796 ,\n",
       "       -0.19109 , -0.6428  , -0.14994 ,  0.74716 , -0.23347 , -0.16557 ,\n",
       "        2.8593  ,  0.60577 , -0.63465 ,  0.45448 ,  0.14856 ,  0.53445 ,\n",
       "        0.27442 ,  1.0104  ,  0.079507, -0.44915 ,  0.46796 , -0.49001 ,\n",
       "       -0.20323 ,  0.65496 ,  0.16845 ,  0.50674 ,  0.62557 ,  0.071343,\n",
       "        0.61898 , -0.99744 ], dtype=float32)"
      ]
     },
     "execution_count": 3,
     "metadata": {},
     "output_type": "execute_result"
    }
   ],
   "source": [
    "wordembed['table']"
   ]
  },
  {
   "cell_type": "code",
   "execution_count": 4,
   "metadata": {},
   "outputs": [
    {
     "data": {
      "text/plain": [
       "array([ 0.52042 , -0.8314  ,  0.49961 ,  1.2893  ,  0.1151  ,  0.057521,\n",
       "       -1.3753  , -0.97313 ,  0.18346 ,  0.47672 , -0.15112 ,  0.35532 ,\n",
       "        0.25912 , -0.77857 ,  0.52181 ,  0.47695 , -1.4251  ,  0.858   ,\n",
       "        0.59821 , -1.0903  ,  0.33574 , -0.60891 ,  0.41742 ,  0.21569 ,\n",
       "       -0.07417 , -0.5822  , -0.4502  ,  0.17253 ,  0.16448 , -0.38413 ,\n",
       "        2.3283  , -0.66682 , -0.58181 ,  0.74389 ,  0.095015, -0.47865 ,\n",
       "       -0.84591 ,  0.38704 ,  0.23693 , -1.5523  ,  0.64802 , -0.16521 ,\n",
       "       -1.4719  , -0.16224 ,  0.79857 ,  0.97391 ,  0.40027 , -0.21912 ,\n",
       "       -0.30938 ,  0.26581 ], dtype=float32)"
      ]
     },
     "execution_count": 4,
     "metadata": {},
     "output_type": "execute_result"
    }
   ],
   "source": [
    "wordembed['apple']"
   ]
  },
  {
   "cell_type": "code",
   "execution_count": 5,
   "metadata": {},
   "outputs": [
    {
     "data": {
      "text/plain": [
       "(50,)"
      ]
     },
     "execution_count": 5,
     "metadata": {},
     "output_type": "execute_result"
    }
   ],
   "source": [
    "wordembed['apple'].shape"
   ]
  },
  {
   "cell_type": "code",
   "execution_count": 6,
   "metadata": {},
   "outputs": [
    {
     "data": {
      "text/plain": [
       "array([-0.13886  ,  1.1401   , -0.85212  , -0.29212  ,  0.75534  ,\n",
       "        0.82762  , -0.3181   ,  0.0072204, -0.34762  ,  1.0731   ,\n",
       "       -0.24665  ,  0.97765  , -0.55835  , -0.090318 ,  0.83182  ,\n",
       "       -0.33317  ,  0.22648  ,  0.30913  ,  0.026929 , -0.086739 ,\n",
       "       -0.14703  ,  1.3543   ,  0.53695  ,  0.43735  ,  1.2749   ,\n",
       "       -1.4382   , -1.2815   , -0.15196  ,  1.0506   , -0.93644  ,\n",
       "        2.7561   ,  0.58967  , -0.29473  ,  0.27574  , -0.32928  ,\n",
       "       -0.201    , -0.28547  , -0.45987  , -0.14603  , -0.69372  ,\n",
       "        0.070761 , -0.19326  , -0.1855   , -0.16095  ,  0.24268  ,\n",
       "        0.20784  ,  0.030924 , -1.3711   , -0.28606  ,  0.2898   ],\n",
       "      dtype=float32)"
      ]
     },
     "execution_count": 6,
     "metadata": {},
     "output_type": "execute_result"
    }
   ],
   "source": [
    "wordembed['love']"
   ]
  },
  {
   "cell_type": "code",
   "execution_count": 7,
   "metadata": {},
   "outputs": [
    {
     "data": {
      "text/plain": [
       "array([-0.010419,  0.18859 , -1.1103  , -0.1153  ,  0.41355 ,  1.6054  ,\n",
       "        0.20117 , -0.88146 ,  0.41256 ,  0.95368 , -0.18311 , -0.30528 ,\n",
       "        0.29189 , -0.10752 ,  1.4091  , -0.17546 , -0.75133 , -0.14834 ,\n",
       "        0.3885  ,  0.079413,  0.22707 ,  1.2332  ,  0.29273 ,  1.3166  ,\n",
       "       -0.49709 , -1.7793  ,  0.056008, -0.397   ,  0.51418 , -0.31688 ,\n",
       "        2.3976  ,  0.31263 , -0.44624 , -1.1556  , -0.28933 , -0.080372,\n",
       "       -0.043744, -0.89217 , -0.48708 , -0.60101 , -0.36962 ,  0.20775 ,\n",
       "        0.519   ,  1.3062  ,  0.54721 , -0.77457 ,  0.10109 , -0.66229 ,\n",
       "        0.16455 ,  0.51965 ], dtype=float32)"
      ]
     },
     "execution_count": 7,
     "metadata": {},
     "output_type": "execute_result"
    }
   ],
   "source": [
    "wordembed['sex']"
   ]
  },
  {
   "cell_type": "code",
   "execution_count": 8,
   "metadata": {},
   "outputs": [
    {
     "data": {
      "text/plain": [
       "array([ 6.1850e-01,  6.4254e-01, -4.6552e-01,  3.7570e-01,  7.4838e-01,\n",
       "        5.3739e-01,  2.2239e-03, -6.0577e-01,  2.6408e-01,  1.1703e-01,\n",
       "        4.3722e-01,  2.0092e-01, -5.7859e-02, -3.4589e-01,  2.1664e-01,\n",
       "        5.8573e-01,  5.3919e-01,  6.9490e-01, -1.5618e-01,  5.5830e-02,\n",
       "       -6.0515e-01, -2.8997e-01, -2.5594e-02,  5.5593e-01,  2.5356e-01,\n",
       "       -1.9612e+00, -5.1381e-01,  6.9096e-01,  6.6246e-02, -5.4224e-02,\n",
       "        3.7871e+00, -7.7403e-01, -1.2689e-01, -5.1465e-01,  6.6705e-02,\n",
       "       -3.2933e-01,  1.3483e-01,  1.9049e-01,  1.3812e-01, -2.1503e-01,\n",
       "       -1.6573e-02,  3.1200e-01, -3.3189e-01, -2.6001e-02, -3.8203e-01,\n",
       "        1.9403e-01, -1.2466e-01, -2.7557e-01,  3.0899e-01,  4.8497e-01],\n",
       "      dtype=float32)"
      ]
     },
     "execution_count": 8,
     "metadata": {},
     "output_type": "execute_result"
    }
   ],
   "source": [
    "wordembed['is']"
   ]
  },
  {
   "cell_type": "code",
   "execution_count": 10,
   "metadata": {},
   "outputs": [],
   "source": [
    "apple=wordembed['apple'].reshape(1,-1)\n",
    "orange=wordembed['orange'].reshape(1,-1)\n",
    "\n",
    "\n"
   ]
  },
  {
   "cell_type": "code",
   "execution_count": 11,
   "metadata": {},
   "outputs": [],
   "source": [
    "avg=np.sum(np.array([apple,orange]),axis=0)/2"
   ]
  },
  {
   "cell_type": "code",
   "execution_count": 12,
   "metadata": {},
   "outputs": [
    {
     "data": {
      "text/plain": [
       "array([[ 1., -1.,  1., ..., -1., -1.,  1.],\n",
       "       [-1.,  1., -1., ...,  1.,  1., -1.],\n",
       "       [-1.,  1., -1., ...,  1.,  1., -1.],\n",
       "       ...,\n",
       "       [-1.,  1., -1., ...,  1.,  1., -1.],\n",
       "       [-1.,  1., -1., ...,  1.,  1., -1.],\n",
       "       [-1.,  1., -1., ...,  1.,  1., -1.]], dtype=float32)"
      ]
     },
     "execution_count": 12,
     "metadata": {},
     "output_type": "execute_result"
    }
   ],
   "source": [
    "cosine_similarity(avg,apple)"
   ]
  },
  {
   "cell_type": "code",
   "execution_count": null,
   "metadata": {},
   "outputs": [],
   "source": []
  }
 ],
 "metadata": {
  "kernelspec": {
   "display_name": "Python 3",
   "language": "python",
   "name": "python3"
  },
  "language_info": {
   "codemirror_mode": {
    "name": "ipython",
    "version": 3
   },
   "file_extension": ".py",
   "mimetype": "text/x-python",
   "name": "python",
   "nbconvert_exporter": "python",
   "pygments_lexer": "ipython3",
   "version": "3.6.8"
  }
 },
 "nbformat": 4,
 "nbformat_minor": 2
}
