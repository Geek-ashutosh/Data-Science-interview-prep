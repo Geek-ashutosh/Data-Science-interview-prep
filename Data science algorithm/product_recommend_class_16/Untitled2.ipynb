{
 "cells": [
  {
   "cell_type": "code",
   "execution_count": 3,
   "metadata": {},
   "outputs": [
    {
     "name": "stdout",
     "output_type": "stream",
     "text": [
      "hi how are u\n"
     ]
    }
   ],
   "source": [
    "class computer:\n",
    "    def sidak():\n",
    "        print(\"hi how are u\")\n",
    "    \n",
    "c1=computer\n",
    "c1.sidak()"
   ]
  },
  {
   "cell_type": "code",
   "execution_count": 4,
   "metadata": {},
   "outputs": [
    {
     "name": "stdout",
     "output_type": "stream",
     "text": [
      "hi how are u i5 16gb\n"
     ]
    }
   ],
   "source": [
    "class computer:\n",
    "    def __init__(self,ram,cpu):\n",
    "            self.ram=ram\n",
    "            self.cpu=cpu\n",
    "    \n",
    "    \n",
    "    def sidak(self):\n",
    "        print(\"hi how are u\",self.cpu,self.ram)\n",
    "        \n",
    "    \n",
    "c1=computer(\"16gb\",'i5')\n",
    "c1.sidak()"
   ]
  },
  {
   "cell_type": "code",
   "execution_count": 5,
   "metadata": {},
   "outputs": [
    {
     "name": "stdout",
     "output_type": "stream",
     "text": [
      "45602520\n"
     ]
    }
   ],
   "source": [
    "class computer:\n",
    "    pass\n",
    "\n",
    "c1=computer\n",
    "print(id(c1))"
   ]
  },
  {
   "cell_type": "code",
   "execution_count": 10,
   "metadata": {},
   "outputs": [
    {
     "name": "stdout",
     "output_type": "stream",
     "text": [
      "they are not\n"
     ]
    }
   ],
   "source": [
    "class computer:\n",
    "    \n",
    "    def __init__(self):\n",
    "        self.age=10\n",
    "        self.name=\"sidak\"\n",
    "        \n",
    "        \n",
    "    def compare(self,other):\n",
    "        if self.age==other.age:\n",
    "            return True\n",
    "        else:\n",
    "            return False\n",
    "        \n",
    "c1=computer()\n",
    "c1.age=(20)\n",
    "c2=computer()\n",
    "\n",
    "if c1.compare(c2):\n",
    "    print(\"they are same\")\n",
    "else:\n",
    "    print(\"they are not\")\n",
    "    \n"
   ]
  },
  {
   "cell_type": "code",
   "execution_count": 15,
   "metadata": {},
   "outputs": [
    {
     "name": "stdout",
     "output_type": "stream",
     "text": [
      "563\n"
     ]
    }
   ],
   "source": [
    "class student:\n",
    "    \n",
    "    def __init__(self,a,b):\n",
    "        self.a=a\n",
    "        self.b=b\n",
    "        \n",
    "    def __add__(self,other):\n",
    "        m1=self.a +other.a\n",
    "        m2=self.b +other.b\n",
    "        s3=m1 +m2\n",
    "        \n",
    "        return s3\n",
    "    \n",
    "s1=student(221,1)\n",
    "s2=student(320,21)\n",
    "\n",
    "s3=s1 + s2\n",
    "    \n",
    "print(s3)"
   ]
  },
  {
   "cell_type": "code",
   "execution_count": null,
   "metadata": {},
   "outputs": [],
   "source": []
  }
 ],
 "metadata": {
  "kernelspec": {
   "display_name": "Python 3",
   "language": "python",
   "name": "python3"
  },
  "language_info": {
   "codemirror_mode": {
    "name": "ipython",
    "version": 3
   },
   "file_extension": ".py",
   "mimetype": "text/x-python",
   "name": "python",
   "nbconvert_exporter": "python",
   "pygments_lexer": "ipython3",
   "version": "3.6.8"
  }
 },
 "nbformat": 4,
 "nbformat_minor": 2
}
