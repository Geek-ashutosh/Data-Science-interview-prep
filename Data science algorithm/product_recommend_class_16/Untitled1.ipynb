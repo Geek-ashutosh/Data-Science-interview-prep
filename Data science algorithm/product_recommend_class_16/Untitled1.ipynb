{
 "cells": [
  {
   "cell_type": "code",
   "execution_count": 1,
   "metadata": {},
   "outputs": [],
   "source": [
    "from glove_vec import read_glove_vectors\n",
    "from sklearn.metrics.pairwise import cosine_similarity\n",
    "import numpy as np"
   ]
  },
  {
   "cell_type": "code",
   "execution_count": 2,
   "metadata": {},
   "outputs": [],
   "source": [
    "wordembed=read_glove_vectors('./glove.6B.50d.txt')"
   ]
  },
  {
   "cell_type": "code",
   "execution_count": 3,
   "metadata": {},
   "outputs": [
    {
     "data": {
      "text/plain": [
       "array([-0.36661 ,  1.0584  , -0.65378 ,  0.17674 ,  1.0605  , -0.72541 ,\n",
       "       -0.009721,  0.07969 , -0.4649  , -0.74347 , -0.64147 , -0.16837 ,\n",
       "       -0.48926 ,  0.56673 ,  0.73102 ,  0.18387 ,  0.34366 , -0.19158 ,\n",
       "        0.066052, -1.3434  ,  0.50813 , -0.21998 ,  0.46182 ,  0.65796 ,\n",
       "       -0.19109 , -0.6428  , -0.14994 ,  0.74716 , -0.23347 , -0.16557 ,\n",
       "        2.8593  ,  0.60577 , -0.63465 ,  0.45448 ,  0.14856 ,  0.53445 ,\n",
       "        0.27442 ,  1.0104  ,  0.079507, -0.44915 ,  0.46796 , -0.49001 ,\n",
       "       -0.20323 ,  0.65496 ,  0.16845 ,  0.50674 ,  0.62557 ,  0.071343,\n",
       "        0.61898 , -0.99744 ], dtype=float32)"
      ]
     },
     "execution_count": 3,
     "metadata": {},
     "output_type": "execute_result"
    }
   ],
   "source": [
    "wordembed['table']"
   ]
  },
  {
   "cell_type": "code",
   "execution_count": 4,
   "metadata": {},
   "outputs": [
    {
     "data": {
      "text/plain": [
       "array([ 0.52042 , -0.8314  ,  0.49961 ,  1.2893  ,  0.1151  ,  0.057521,\n",
       "       -1.3753  , -0.97313 ,  0.18346 ,  0.47672 , -0.15112 ,  0.35532 ,\n",
       "        0.25912 , -0.77857 ,  0.52181 ,  0.47695 , -1.4251  ,  0.858   ,\n",
       "        0.59821 , -1.0903  ,  0.33574 , -0.60891 ,  0.41742 ,  0.21569 ,\n",
       "       -0.07417 , -0.5822  , -0.4502  ,  0.17253 ,  0.16448 , -0.38413 ,\n",
       "        2.3283  , -0.66682 , -0.58181 ,  0.74389 ,  0.095015, -0.47865 ,\n",
       "       -0.84591 ,  0.38704 ,  0.23693 , -1.5523  ,  0.64802 , -0.16521 ,\n",
       "       -1.4719  , -0.16224 ,  0.79857 ,  0.97391 ,  0.40027 , -0.21912 ,\n",
       "       -0.30938 ,  0.26581 ], dtype=float32)"
      ]
     },
     "execution_count": 4,
     "metadata": {},
     "output_type": "execute_result"
    }
   ],
   "source": [
    "wordembed['apple']"
   ]
  },
  {
   "cell_type": "code",
   "execution_count": 5,
   "metadata": {},
   "outputs": [
    {
     "data": {
      "text/plain": [
       "(50,)"
      ]
     },
     "execution_count": 5,
     "metadata": {},
     "output_type": "execute_result"
    }
   ],
   "source": [
    "wordembed['apple'].shape"
   ]
  },
  {
   "cell_type": "code",
   "execution_count": 6,
   "metadata": {},
   "outputs": [
    {
     "data": {
      "text/plain": [
       "array([-0.13886  ,  1.1401   , -0.85212  , -0.29212  ,  0.75534  ,\n",
       "        0.82762  , -0.3181   ,  0.0072204, -0.34762  ,  1.0731   ,\n",
       "       -0.24665  ,  0.97765  , -0.55835  , -0.090318 ,  0.83182  ,\n",
       "       -0.33317  ,  0.22648  ,  0.30913  ,  0.026929 , -0.086739 ,\n",
       "       -0.14703  ,  1.3543   ,  0.53695  ,  0.43735  ,  1.2749   ,\n",
       "       -1.4382   , -1.2815   , -0.15196  ,  1.0506   , -0.93644  ,\n",
       "        2.7561   ,  0.58967  , -0.29473  ,  0.27574  , -0.32928  ,\n",
       "       -0.201    , -0.28547  , -0.45987  , -0.14603  , -0.69372  ,\n",
       "        0.070761 , -0.19326  , -0.1855   , -0.16095  ,  0.24268  ,\n",
       "        0.20784  ,  0.030924 , -1.3711   , -0.28606  ,  0.2898   ],\n",
       "      dtype=float32)"
      ]
     },
     "execution_count": 6,
     "metadata": {},
     "output_type": "execute_result"
    }
   ],
   "source": [
    "wordembed['love']"
   ]
  },
  {
   "cell_type": "code",
   "execution_count": 7,
   "metadata": {},
   "outputs": [
    {
     "data": {
      "text/plain": [
       "array([-0.010419,  0.18859 , -1.1103  , -0.1153  ,  0.41355 ,  1.6054  ,\n",
       "        0.20117 , -0.88146 ,  0.41256 ,  0.95368 , -0.18311 , -0.30528 ,\n",
       "        0.29189 , -0.10752 ,  1.4091  , -0.17546 , -0.75133 , -0.14834 ,\n",
       "        0.3885  ,  0.079413,  0.22707 ,  1.2332  ,  0.29273 ,  1.3166  ,\n",
       "       -0.49709 , -1.7793  ,  0.056008, -0.397   ,  0.51418 , -0.31688 ,\n",
       "        2.3976  ,  0.31263 , -0.44624 , -1.1556  , -0.28933 , -0.080372,\n",
       "       -0.043744, -0.89217 , -0.48708 , -0.60101 , -0.36962 ,  0.20775 ,\n",
       "        0.519   ,  1.3062  ,  0.54721 , -0.77457 ,  0.10109 , -0.66229 ,\n",
       "        0.16455 ,  0.51965 ], dtype=float32)"
      ]
     },
     "execution_count": 7,
     "metadata": {},
     "output_type": "execute_result"
    }
   ],
   "source": [
    "wordembed['sex']"
   ]
  },
  {
   "cell_type": "code",
   "execution_count": 8,
   "metadata": {},
   "outputs": [
    {
     "data": {
      "text/plain": [
       "array([ 6.1850e-01,  6.4254e-01, -4.6552e-01,  3.7570e-01,  7.4838e-01,\n",
       "        5.3739e-01,  2.2239e-03, -6.0577e-01,  2.6408e-01,  1.1703e-01,\n",
       "        4.3722e-01,  2.0092e-01, -5.7859e-02, -3.4589e-01,  2.1664e-01,\n",
       "        5.8573e-01,  5.3919e-01,  6.9490e-01, -1.5618e-01,  5.5830e-02,\n",
       "       -6.0515e-01, -2.8997e-01, -2.5594e-02,  5.5593e-01,  2.5356e-01,\n",
       "       -1.9612e+00, -5.1381e-01,  6.9096e-01,  6.6246e-02, -5.4224e-02,\n",
       "        3.7871e+00, -7.7403e-01, -1.2689e-01, -5.1465e-01,  6.6705e-02,\n",
       "       -3.2933e-01,  1.3483e-01,  1.9049e-01,  1.3812e-01, -2.1503e-01,\n",
       "       -1.6573e-02,  3.1200e-01, -3.3189e-01, -2.6001e-02, -3.8203e-01,\n",
       "        1.9403e-01, -1.2466e-01, -2.7557e-01,  3.0899e-01,  4.8497e-01],\n",
       "      dtype=float32)"
      ]
     },
     "execution_count": 8,
     "metadata": {},
     "output_type": "execute_result"
    }
   ],
   "source": [
    "wordembed['is']"
   ]
  },
  {
   "cell_type": "code",
   "execution_count": 24,
   "metadata": {},
   "outputs": [],
   "source": [
    "apple=wordembed['apple'].reshape(1,-1)\n",
    "orange=wordembed['orange'].reshape(1,-1)\n",
    "\n",
    "\n",
    "sex=wordembed['sex'].reshape(-1,1)"
   ]
  },
  {
   "cell_type": "code",
   "execution_count": 25,
   "metadata": {},
   "outputs": [],
   "source": [
    "avg=np.sum(np.array([apple,orange,sex]),axis=0)/3"
   ]
  },
  {
   "cell_type": "code",
   "execution_count": 26,
   "metadata": {},
   "outputs": [
    {
     "data": {
      "text/plain": [
       "array([[0.88594365],\n",
       "       [0.8939791 ],\n",
       "       [0.63472545],\n",
       "       [0.8733328 ],\n",
       "       [0.87641084],\n",
       "       [0.57650274],\n",
       "       [0.89373803],\n",
       "       [0.6924168 ],\n",
       "       [0.8765467 ],\n",
       "       [0.75228983],\n",
       "       [0.86253405],\n",
       "       [0.83875173],\n",
       "       [0.889343  ],\n",
       "       [0.87444615],\n",
       "       [0.6257977 ],\n",
       "       [0.8638466 ],\n",
       "       [0.7267387 ],\n",
       "       [0.8683106 ],\n",
       "       [0.87969947],\n",
       "       [0.8922885 ],\n",
       "       [0.89295757],\n",
       "       [0.67334205],\n",
       "       [0.8892807 ],\n",
       "       [0.6504579 ],\n",
       "       [0.79346824],\n",
       "       [0.49690586],\n",
       "       [0.8910551 ],\n",
       "       [0.8180329 ],\n",
       "       [0.8602284 ],\n",
       "       [0.83624905],\n",
       "       [0.42264202],\n",
       "       [0.8876934 ],\n",
       "       [0.80615586],\n",
       "       [0.6238712 ],\n",
       "       [0.84213036],\n",
       "       [0.87811524],\n",
       "       [0.88251525],\n",
       "       [0.6896273 ],\n",
       "       [0.79599506],\n",
       "       [0.766604  ],\n",
       "       [0.82442796],\n",
       "       [0.89357597],\n",
       "       [0.8593423 ],\n",
       "       [0.6532806 ],\n",
       "       [0.8539681 ],\n",
       "       [0.7205669 ],\n",
       "       [0.89316   ],\n",
       "       [0.7504121 ],\n",
       "       [0.8941884 ],\n",
       "       [0.859222  ]], dtype=float32)"
      ]
     },
     "execution_count": 26,
     "metadata": {},
     "output_type": "execute_result"
    }
   ],
   "source": [
    "cosine_similarity(avg,apple)"
   ]
  },
  {
   "cell_type": "code",
   "execution_count": 27,
   "metadata": {},
   "outputs": [
    {
     "data": {
      "text/plain": [
       "array([[0.86800724],\n",
       "       [0.83903754],\n",
       "       [0.76301694],\n",
       "       [0.8745125 ],\n",
       "       [0.7813956 ],\n",
       "       [0.3666766 ],\n",
       "       [0.8364738 ],\n",
       "       [0.80084556],\n",
       "       [0.7816987 ],\n",
       "       [0.58468443],\n",
       "       [0.87570435],\n",
       "       [0.8725172 ],\n",
       "       [0.81555396],\n",
       "       [0.8742291 ],\n",
       "       [0.42487133],\n",
       "       [0.87568194],\n",
       "       [0.8216037 ],\n",
       "       [0.8753759 ],\n",
       "       [0.7889448 ],\n",
       "       [0.8576583 ],\n",
       "       [0.8309315 ],\n",
       "       [0.48284608],\n",
       "       [0.8153409 ],\n",
       "       [0.45468786],\n",
       "       [0.85635895],\n",
       "       [0.6624053 ],\n",
       "       [0.8607882 ],\n",
       "       [0.8662495 ],\n",
       "       [0.748788  ],\n",
       "       [0.8718928 ],\n",
       "       [0.19424757],\n",
       "       [0.8101981 ],\n",
       "       [0.86173815],\n",
       "       [0.7555632 ],\n",
       "       [0.8732899 ],\n",
       "       [0.8729943 ],\n",
       "       [0.8707123 ],\n",
       "       [0.7990946 ],\n",
       "       [0.85747117],\n",
       "       [0.8434768 ],\n",
       "       [0.86842835],\n",
       "       [0.8350993 ],\n",
       "       [0.74714506],\n",
       "       [0.45813438],\n",
       "       [0.7374001 ],\n",
       "       [0.8179864 ],\n",
       "       [0.85448647],\n",
       "       [0.83493286],\n",
       "       [0.8437002 ],\n",
       "       [0.7469229 ]], dtype=float32)"
      ]
     },
     "execution_count": 27,
     "metadata": {},
     "output_type": "execute_result"
    }
   ],
   "source": [
    "cosine_similarity(avg,orange)"
   ]
  },
  {
   "cell_type": "code",
   "execution_count": 21,
   "metadata": {},
   "outputs": [
    {
     "ename": "ValueError",
     "evalue": "Incompatible dimension for X and Y matrices: X.shape[1] == 50 while Y.shape[1] == 1",
     "output_type": "error",
     "traceback": [
      "\u001b[0;31m---------------------------------------------------------------------------\u001b[0m",
      "\u001b[0;31mValueError\u001b[0m                                Traceback (most recent call last)",
      "\u001b[0;32m<ipython-input-21-9c3c428cd776>\u001b[0m in \u001b[0;36m<module>\u001b[0;34m\u001b[0m\n\u001b[0;32m----> 1\u001b[0;31m \u001b[0mcosine_similarity\u001b[0m\u001b[0;34m(\u001b[0m\u001b[0mavg\u001b[0m\u001b[0;34m,\u001b[0m\u001b[0msex\u001b[0m\u001b[0;34m)\u001b[0m\u001b[0;34m\u001b[0m\u001b[0;34m\u001b[0m\u001b[0m\n\u001b[0m",
      "\u001b[0;32m~/.local/lib/python3.6/site-packages/sklearn/metrics/pairwise.py\u001b[0m in \u001b[0;36mcosine_similarity\u001b[0;34m(X, Y, dense_output)\u001b[0m\n\u001b[1;32m   1025\u001b[0m     \u001b[0;31m# to avoid recursive import\u001b[0m\u001b[0;34m\u001b[0m\u001b[0;34m\u001b[0m\u001b[0;34m\u001b[0m\u001b[0m\n\u001b[1;32m   1026\u001b[0m \u001b[0;34m\u001b[0m\u001b[0m\n\u001b[0;32m-> 1027\u001b[0;31m     \u001b[0mX\u001b[0m\u001b[0;34m,\u001b[0m \u001b[0mY\u001b[0m \u001b[0;34m=\u001b[0m \u001b[0mcheck_pairwise_arrays\u001b[0m\u001b[0;34m(\u001b[0m\u001b[0mX\u001b[0m\u001b[0;34m,\u001b[0m \u001b[0mY\u001b[0m\u001b[0;34m)\u001b[0m\u001b[0;34m\u001b[0m\u001b[0;34m\u001b[0m\u001b[0m\n\u001b[0m\u001b[1;32m   1028\u001b[0m \u001b[0;34m\u001b[0m\u001b[0m\n\u001b[1;32m   1029\u001b[0m     \u001b[0mX_normalized\u001b[0m \u001b[0;34m=\u001b[0m \u001b[0mnormalize\u001b[0m\u001b[0;34m(\u001b[0m\u001b[0mX\u001b[0m\u001b[0;34m,\u001b[0m \u001b[0mcopy\u001b[0m\u001b[0;34m=\u001b[0m\u001b[0;32mTrue\u001b[0m\u001b[0;34m)\u001b[0m\u001b[0;34m\u001b[0m\u001b[0;34m\u001b[0m\u001b[0m\n",
      "\u001b[0;32m~/.local/lib/python3.6/site-packages/sklearn/metrics/pairwise.py\u001b[0m in \u001b[0;36mcheck_pairwise_arrays\u001b[0;34m(X, Y, precomputed, dtype)\u001b[0m\n\u001b[1;32m    123\u001b[0m         raise ValueError(\"Incompatible dimension for X and Y matrices: \"\n\u001b[1;32m    124\u001b[0m                          \"X.shape[1] == %d while Y.shape[1] == %d\" % (\n\u001b[0;32m--> 125\u001b[0;31m                              X.shape[1], Y.shape[1]))\n\u001b[0m\u001b[1;32m    126\u001b[0m \u001b[0;34m\u001b[0m\u001b[0m\n\u001b[1;32m    127\u001b[0m     \u001b[0;32mreturn\u001b[0m \u001b[0mX\u001b[0m\u001b[0;34m,\u001b[0m \u001b[0mY\u001b[0m\u001b[0;34m\u001b[0m\u001b[0;34m\u001b[0m\u001b[0m\n",
      "\u001b[0;31mValueError\u001b[0m: Incompatible dimension for X and Y matrices: X.shape[1] == 50 while Y.shape[1] == 1"
     ]
    }
   ],
   "source": [
    "cosine_similarity(avg,sex)"
   ]
  },
  {
   "cell_type": "code",
   "execution_count": null,
   "metadata": {},
   "outputs": [],
   "source": []
  }
 ],
 "metadata": {
  "kernelspec": {
   "display_name": "Python 3",
   "language": "python",
   "name": "python3"
  },
  "language_info": {
   "codemirror_mode": {
    "name": "ipython",
    "version": 3
   },
   "file_extension": ".py",
   "mimetype": "text/x-python",
   "name": "python",
   "nbconvert_exporter": "python",
   "pygments_lexer": "ipython3",
   "version": "3.6.8"
  }
 },
 "nbformat": 4,
 "nbformat_minor": 2
}
