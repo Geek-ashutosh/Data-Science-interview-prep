{
 "cells": [
  {
   "cell_type": "code",
   "execution_count": 1,
   "metadata": {},
   "outputs": [
    {
     "name": "stderr",
     "output_type": "stream",
     "text": [
      "Using TensorFlow backend.\n"
     ]
    }
   ],
   "source": [
    "import numpy as np\n",
    "import pandas as pd\n",
    "from tqdm import tqdm\n",
    "import matplotlib.pyplot as plt\n",
    "\n",
    "from keras.layers import Flatten,UpSampling2D,Conv2D,Reshape,Input,Dense,Dropout,MaxPooling2D\n",
    "from keras.layers.advanced_activations import LeakyReLU\n",
    "from keras.models import Model,Sequential\n",
    "from keras.datasets import mnist\n",
    "from keras.optimizers import Adam\n",
    "from keras.initializers import normal"
   ]
  },
  {
   "cell_type": "code",
   "execution_count": 17,
   "metadata": {},
   "outputs": [],
   "source": [
    "randomdim=100\n"
   ]
  },
  {
   "cell_type": "code",
   "execution_count": 18,
   "metadata": {},
   "outputs": [],
   "source": [
    "(X_train,Y_train),(X_test,Y_test)=mnist.load_data()\n",
    "\n",
    "X_train=(X_train.astype(np.float32)-127.5)/127.5\n",
    "\n",
    "X_train=X_train[:,:,:,np.newaxis]"
   ]
  },
  {
   "cell_type": "code",
   "execution_count": 19,
   "metadata": {},
   "outputs": [
    {
     "data": {
      "text/plain": [
       "(60000, 28, 28, 1)"
      ]
     },
     "execution_count": 19,
     "metadata": {},
     "output_type": "execute_result"
    }
   ],
   "source": [
    "X_train.shape"
   ]
  },
  {
   "cell_type": "code",
   "execution_count": 20,
   "metadata": {},
   "outputs": [],
   "source": [
    "adam=Adam(lr=0.001)"
   ]
  },
  {
   "cell_type": "code",
   "execution_count": 21,
   "metadata": {},
   "outputs": [
    {
     "name": "stdout",
     "output_type": "stream",
     "text": [
      "_________________________________________________________________\n",
      "Layer (type)                 Output Shape              Param #   \n",
      "=================================================================\n",
      "dense_15 (Dense)             (None, 6272)              633472    \n",
      "_________________________________________________________________\n",
      "leaky_re_lu_13 (LeakyReLU)   (None, 6272)              0         \n",
      "_________________________________________________________________\n",
      "reshape_3 (Reshape)          (None, 7, 7, 128)         0         \n",
      "_________________________________________________________________\n",
      "conv2d_17 (Conv2D)           (None, 7, 7, 64)          204864    \n",
      "_________________________________________________________________\n",
      "max_pooling2d_3 (MaxPooling2 (None, 3, 3, 64)          0         \n",
      "_________________________________________________________________\n",
      "dropout_15 (Dropout)         (None, 3, 3, 64)          0         \n",
      "_________________________________________________________________\n",
      "leaky_re_lu_14 (LeakyReLU)   (None, 3, 3, 64)          0         \n",
      "_________________________________________________________________\n",
      "conv2d_18 (Conv2D)           (None, 2, 2, 1)           1601      \n",
      "=================================================================\n",
      "Total params: 839,937\n",
      "Trainable params: 839,937\n",
      "Non-trainable params: 0\n",
      "_________________________________________________________________\n"
     ]
    }
   ],
   "source": [
    "generator=Sequential()\n",
    "\n",
    "generator.add(Dense(128*7*7,input_dim=randomdim,kernel_initializer='normal'))\n",
    "\n",
    "generator.add(LeakyReLU(0.25))\n",
    "generator.add(Reshape((7,7,128)) )\n",
    "generator.add(Conv2D(64,(5,5),padding='same'))\n",
    "generator.add(MaxPooling2D(2,2))\n",
    "generator.add(Dropout(0.2))\n",
    "generator.add(LeakyReLU(0.25))\n",
    "\n",
    "\n",
    "\n",
    "generator.add(Conv2D(1,(5,5),padding='same',activation='softmax',strides=2))\n",
    "\n",
    "generator.compile(loss='binary_crossentropy', optimizer=adam)\n",
    "\n",
    "\n",
    "generator.summary()\n"
   ]
  },
  {
   "cell_type": "markdown",
   "metadata": {},
   "source": [
    "generator.summary()"
   ]
  },
  {
   "cell_type": "code",
   "execution_count": 31,
   "metadata": {},
   "outputs": [
    {
     "name": "stdout",
     "output_type": "stream",
     "text": [
      "_________________________________________________________________\n",
      "Layer (type)                 Output Shape              Param #   \n",
      "=================================================================\n",
      "conv2d_11 (Conv2D)           (None, 1, 1, 64)          640       \n",
      "_________________________________________________________________\n",
      "leaky_re_lu_8 (LeakyReLU)    (None, 1, 1, 64)          0         \n",
      "_________________________________________________________________\n",
      "dropout_9 (Dropout)          (None, 1, 1, 64)          0         \n",
      "_________________________________________________________________\n",
      "conv2d_12 (Conv2D)           (None, 1, 1, 128)         73856     \n",
      "_________________________________________________________________\n",
      "dropout_10 (Dropout)         (None, 1, 1, 128)         0         \n",
      "_________________________________________________________________\n",
      "flatten_4 (Flatten)          (None, 128)               0         \n",
      "_________________________________________________________________\n",
      "dense_9 (Dense)              (None, 100)               12900     \n",
      "_________________________________________________________________\n",
      "dense_10 (Dense)             (None, 1)                 101       \n",
      "=================================================================\n",
      "Total params: 87,497\n",
      "Trainable params: 0\n",
      "Non-trainable params: 87,497\n",
      "_________________________________________________________________\n"
     ]
    }
   ],
   "source": [
    "## disciminator\n",
    "\n",
    "disciminator = Sequential()\n",
    "disciminator.add(Conv2D(64, (5,5), padding='same', strides=(2,2), kernel_initializer='normal'))\n",
    "disciminator.add(LeakyReLU(0.2))\n",
    "disciminator.add(Dropout(0.25))\n",
    "disciminator.add(Conv2D(128, (5,5), padding='same', strides=(2,2), kernel_initializer='normal'))\n",
    "disciminator.add(LeakyReLU(0.2))\n",
    "disciminator.add(Dropout(0.25))\n",
    "disciminator.add(Flatten())\n",
    "disciminator.add(Dense(100, activation='tanh'))\n",
    "disciminator.add(Dense(1, activation='softmax'))\n",
    "disciminator.compile(loss='binary_crossentropy', optimizer=adam)\n",
    "discriminator.summary()"
   ]
  },
  {
   "cell_type": "code",
   "execution_count": 33,
   "metadata": {},
   "outputs": [],
   "source": [
    "discriminator.trainable=False\n",
    "ganinp=Input(shape=(randomdim,))\n",
    "\n",
    "x=generator(ganinp)\n",
    "ganout=discriminator(x)\n",
    "gan=Model(inputs=ganinp,outputs=ganout)\n",
    "\n",
    "gan.compile(loss='binary_crossentropy',optimizer=adam)"
   ]
  },
  {
   "cell_type": "code",
   "execution_count": 34,
   "metadata": {},
   "outputs": [],
   "source": [
    "glosses=[]\n",
    "dlosses=[]"
   ]
  },
  {
   "cell_type": "code",
   "execution_count": 36,
   "metadata": {},
   "outputs": [],
   "source": [
    "def plotloss(epoch):\n",
    "    plt.figure(figsize=(8,10))\n",
    "    \n",
    "    plt.plot(dlosses,label='Discriminator losss')\n",
    "    plt.plot(glosses,label='generator loss')\n",
    "    plt.xlabel('Epoch')\n",
    "    plt.ylabel('loss')\n",
    "    \n",
    "    plt.legend()\n",
    "    plt.savefig('images/dcgloss.png' %epoch)\n",
    "  "
   ]
  },
  {
   "cell_type": "code",
   "execution_count": 44,
   "metadata": {},
   "outputs": [],
   "source": [
    "def plotGeneratedImages(epoch,example=100, dim=(10,10), figsize=(10,10)):\n",
    "    noise = np.random.normal(0, 1, size=[example, randomDim])\n",
    "    genImages = generator.predict(noise)\n",
    "    \n",
    "    plt.figure(figsize=figsize)\n",
    "    for i in range(genImages.shape[0]):\n",
    "        plt.subplot(dim[0], dim[1], i+1)\n",
    "        plt.imshow(genImages[i,0],interpolation='nearest', cmap='gray')\n",
    "        plt.axis(\"off\")\n",
    "    plt.tight_layout()\n",
    "    plt.savefig('images/dcgan_generated_images_%d.png' %epoch)"
   ]
  },
  {
   "cell_type": "code",
   "execution_count": 58,
   "metadata": {},
   "outputs": [],
   "source": [
    "def train(epochs=1,batchsize=128):\n",
    "    \n",
    "    batchcount=X_train.shape[0]/batchsize\n",
    "    \n",
    "    print(\"Epochs\" \"%d\" % epochs)\n",
    "    print(\"batchsize\" \"%d\" % batchsize)\n",
    "    print(\"batchcount\" \"%f\" % batchcount)\n",
    "    \n",
    "    for e in range(1,epochs+1):\n",
    "        \n",
    "        \n",
    "        for _ in tqdm(range(batchcount)):\n",
    "            \n",
    "            noise=np.random.normal(0,1,size=[batchsize,randomdim])\n",
    "            \n",
    "            imgbatch=X_train[np.random.randint(0,X_train.shape[0],size=batchsize)]\n",
    "            \n",
    "            genimages=generator.predict(noise)\n",
    "            \n",
    "            X=np.concatenate([imgbatch,genimages])\n",
    "            \n",
    "            ydis=np.zeroes(2*batchsize)\n",
    "            \n",
    "            ydis[:batchsize]=0.9\n",
    "            \n",
    "            disciminator.trainable = True\n",
    "            dloss = disciminator.train_on_batch(X, yDis)\n",
    "            \n",
    "            # train generator\n",
    "            noise = np.random.normal(0, 1, size=[batchsize, randomdim])\n",
    "            yGen = np.ones(batchsize)\n",
    "            disciminator.trainable = False\n",
    "            gloss = gan.train_on_batch(noise, yGen)\n",
    "            \n",
    "        dlosses.append(dloss)\n",
    "        glosses.append(gloss)\n",
    "        \n",
    "        if e==1 or e % 50 == 0:\n",
    "            plotGeneratedImages(e)\n",
    "        \n",
    "        plotLoss(e)\n",
    "            \n",
    "        \n",
    "            \n",
    "            \n",
    "\n"
   ]
  },
  {
   "cell_type": "code",
   "execution_count": 59,
   "metadata": {},
   "outputs": [
    {
     "name": "stdout",
     "output_type": "stream",
     "text": [
      "Epochs100\n",
      "batchsize128\n",
      "batchcount468.750000\n"
     ]
    },
    {
     "ename": "TypeError",
     "evalue": "'float' object cannot be interpreted as an integer",
     "output_type": "error",
     "traceback": [
      "\u001b[0;31m---------------------------------------------------------------------------\u001b[0m",
      "\u001b[0;31mTypeError\u001b[0m                                 Traceback (most recent call last)",
      "\u001b[0;32m<ipython-input-59-037acbaebc20>\u001b[0m in \u001b[0;36m<module>\u001b[0;34m\u001b[0m\n\u001b[0;32m----> 1\u001b[0;31m \u001b[0mtrain\u001b[0m\u001b[0;34m(\u001b[0m\u001b[0;36m100.0\u001b[0m\u001b[0;34m,\u001b[0m\u001b[0;36m128.0\u001b[0m\u001b[0;34m)\u001b[0m\u001b[0;34m\u001b[0m\u001b[0;34m\u001b[0m\u001b[0m\n\u001b[0m",
      "\u001b[0;32m<ipython-input-58-84023f852b87>\u001b[0m in \u001b[0;36mtrain\u001b[0;34m(epochs, batchsize)\u001b[0m\n\u001b[1;32m      7\u001b[0m     \u001b[0mprint\u001b[0m\u001b[0;34m(\u001b[0m\u001b[0;34m\"batchcount\"\u001b[0m \u001b[0;34m\"%f\"\u001b[0m \u001b[0;34m%\u001b[0m \u001b[0mbatchcount\u001b[0m\u001b[0;34m)\u001b[0m\u001b[0;34m\u001b[0m\u001b[0;34m\u001b[0m\u001b[0m\n\u001b[1;32m      8\u001b[0m \u001b[0;34m\u001b[0m\u001b[0m\n\u001b[0;32m----> 9\u001b[0;31m     \u001b[0;32mfor\u001b[0m \u001b[0me\u001b[0m \u001b[0;32min\u001b[0m \u001b[0mrange\u001b[0m\u001b[0;34m(\u001b[0m\u001b[0;36m1\u001b[0m\u001b[0;34m,\u001b[0m\u001b[0mepochs\u001b[0m\u001b[0;34m+\u001b[0m\u001b[0;36m1\u001b[0m\u001b[0;34m)\u001b[0m\u001b[0;34m:\u001b[0m\u001b[0;34m\u001b[0m\u001b[0;34m\u001b[0m\u001b[0m\n\u001b[0m\u001b[1;32m     10\u001b[0m \u001b[0;34m\u001b[0m\u001b[0m\n\u001b[1;32m     11\u001b[0m \u001b[0;34m\u001b[0m\u001b[0m\n",
      "\u001b[0;31mTypeError\u001b[0m: 'float' object cannot be interpreted as an integer"
     ]
    }
   ],
   "source": [
    "train(100.0,128.0)"
   ]
  },
  {
   "cell_type": "code",
   "execution_count": 1,
   "metadata": {},
   "outputs": [
    {
     "name": "stdout",
     "output_type": "stream",
     "text": [
      "Object `Adam` not found.\n"
     ]
    }
   ],
   "source": [
    "Adam"
   ]
  },
  {
   "cell_type": "code",
   "execution_count": null,
   "metadata": {},
   "outputs": [],
   "source": []
  }
 ],
 "metadata": {
  "kernelspec": {
   "display_name": "Python 3",
   "language": "python",
   "name": "python3"
  },
  "language_info": {
   "codemirror_mode": {
    "name": "ipython",
    "version": 3
   },
   "file_extension": ".py",
   "mimetype": "text/x-python",
   "name": "python",
   "nbconvert_exporter": "python",
   "pygments_lexer": "ipython3",
   "version": "3.6.8"
  }
 },
 "nbformat": 4,
 "nbformat_minor": 2
}
