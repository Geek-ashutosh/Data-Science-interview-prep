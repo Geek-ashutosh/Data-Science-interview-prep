{
 "cells": [
  {
   "cell_type": "code",
   "execution_count": 8,
   "metadata": {},
   "outputs": [],
   "source": [
    "import numpy as np\n",
    "import pandas as pd\n",
    "import matplotlib.pyplot as plt\n",
    "from keras.models import Model,Sequential\n",
    "from keras.optimizers import Adam\n",
    "from keras.layers import Input,Conv2D,Dense,Flatten,MaxPooling2D,Dropout\n",
    "from keras.activations import relu\n",
    "from keras.utils import np_utils"
   ]
  },
  {
   "cell_type": "code",
   "execution_count": 9,
   "metadata": {},
   "outputs": [],
   "source": [
    "data=pd.read_csv('./fashion-mnist_test.csv')"
   ]
  },
  {
   "cell_type": "code",
   "execution_count": 10,
   "metadata": {},
   "outputs": [
    {
     "name": "stdout",
     "output_type": "stream",
     "text": [
      "(10000, 28, 28, 1) (10000, 10)\n"
     ]
    }
   ],
   "source": [
    "x=data.values\n",
    "X=x[:,1:]\n",
    "Y=x[:,0]\n",
    "\n",
    "X=X/255.0\n",
    "X=X.reshape(-1,28,28,1)\n",
    "\n",
    "Y=np_utils.to_categorical(Y)\n",
    "print(X.shape,Y.shape)"
   ]
  },
  {
   "cell_type": "code",
   "execution_count": 22,
   "metadata": {},
   "outputs": [
    {
     "name": "stdout",
     "output_type": "stream",
     "text": [
      "_________________________________________________________________\n",
      "Layer (type)                 Output Shape              Param #   \n",
      "=================================================================\n",
      "conv2d_32 (Conv2D)           (None, 26, 26, 16)        160       \n",
      "_________________________________________________________________\n",
      "conv2d_33 (Conv2D)           (None, 12, 12, 32)        4640      \n",
      "_________________________________________________________________\n",
      "dropout_19 (Dropout)         (None, 12, 12, 32)        0         \n",
      "_________________________________________________________________\n",
      "max_pooling2d_15 (MaxPooling (None, 6, 6, 32)          0         \n",
      "_________________________________________________________________\n",
      "conv2d_34 (Conv2D)           (None, 2, 2, 64)          18496     \n",
      "_________________________________________________________________\n",
      "dropout_20 (Dropout)         (None, 2, 2, 64)          0         \n",
      "_________________________________________________________________\n",
      "max_pooling2d_16 (MaxPooling (None, 1, 1, 64)          0         \n",
      "_________________________________________________________________\n",
      "flatten_6 (Flatten)          (None, 64)                0         \n",
      "_________________________________________________________________\n",
      "dense_11 (Dense)             (None, 64)                4160      \n",
      "_________________________________________________________________\n",
      "dense_12 (Dense)             (None, 10)                650       \n",
      "=================================================================\n",
      "Total params: 28,106\n",
      "Trainable params: 28,106\n",
      "Non-trainable params: 0\n",
      "_________________________________________________________________\n"
     ]
    }
   ],
   "source": [
    "model=Sequential()\n",
    "\n",
    "model.add(Conv2D(16,kernel_size=(3,3),activation='relu',input_shape=(28,28,1)))\n",
    "model.add(Conv2D(32,kernel_size=(3,3),activation='relu',strides=2))\n",
    "model.add(Dropout(0.25))\n",
    "model.add(MaxPooling2D(2,2))\n",
    "model.add(Conv2D(64,kernel_size=(3,3),activation='relu',strides=2))\n",
    "model.add(Dropout(0.25))\n",
    "model.add(MaxPooling2D(2,2))\n",
    "\n",
    "model.add(Flatten())\n",
    "model.add(Dense(64, activation='relu'))\n",
    "model.add(Dense(10, activation='softmax'))\n",
    "\n",
    "model.summary()\n",
    "\n"
   ]
  },
  {
   "cell_type": "code",
   "execution_count": 26,
   "metadata": {},
   "outputs": [],
   "source": [
    "adam=Adam(lr=0.001)"
   ]
  },
  {
   "cell_type": "code",
   "execution_count": 27,
   "metadata": {},
   "outputs": [],
   "source": [
    "model.compile(loss='categorical_crossentropy', optimizer=adam, metrics=['accuracy'])"
   ]
  },
  {
   "cell_type": "code",
   "execution_count": 28,
   "metadata": {},
   "outputs": [
    {
     "name": "stdout",
     "output_type": "stream",
     "text": [
      "Train on 8000 samples, validate on 2000 samples\n",
      "Epoch 1/20\n",
      "8000/8000 [==============================] - 2s 194us/step - loss: 0.3819 - acc: 0.8548 - val_loss: 0.3916 - val_acc: 0.8710\n",
      "Epoch 2/20\n",
      "8000/8000 [==============================] - 1s 157us/step - loss: 0.3729 - acc: 0.8582 - val_loss: 0.4027 - val_acc: 0.8645\n",
      "Epoch 3/20\n",
      "8000/8000 [==============================] - 1s 156us/step - loss: 0.3624 - acc: 0.8600 - val_loss: 0.3969 - val_acc: 0.8610\n",
      "Epoch 4/20\n",
      "8000/8000 [==============================] - 1s 156us/step - loss: 0.3657 - acc: 0.8600 - val_loss: 0.3998 - val_acc: 0.8670\n",
      "Epoch 5/20\n",
      "8000/8000 [==============================] - 1s 158us/step - loss: 0.3590 - acc: 0.8638 - val_loss: 0.3864 - val_acc: 0.8660\n",
      "Epoch 6/20\n",
      "8000/8000 [==============================] - 1s 158us/step - loss: 0.3392 - acc: 0.8722 - val_loss: 0.3753 - val_acc: 0.8715\n",
      "Epoch 7/20\n",
      "8000/8000 [==============================] - 1s 159us/step - loss: 0.3388 - acc: 0.8669 - val_loss: 0.3713 - val_acc: 0.8685\n",
      "Epoch 8/20\n",
      "8000/8000 [==============================] - 1s 158us/step - loss: 0.3380 - acc: 0.8694 - val_loss: 0.3666 - val_acc: 0.8730\n",
      "Epoch 9/20\n",
      "8000/8000 [==============================] - 1s 160us/step - loss: 0.3314 - acc: 0.8738 - val_loss: 0.3966 - val_acc: 0.8545\n",
      "Epoch 10/20\n",
      "8000/8000 [==============================] - 1s 159us/step - loss: 0.3170 - acc: 0.8817 - val_loss: 0.3654 - val_acc: 0.8730\n",
      "Epoch 11/20\n",
      "8000/8000 [==============================] - 1s 162us/step - loss: 0.3183 - acc: 0.8787 - val_loss: 0.3751 - val_acc: 0.8670\n",
      "Epoch 12/20\n",
      "8000/8000 [==============================] - 1s 162us/step - loss: 0.3191 - acc: 0.8819 - val_loss: 0.3573 - val_acc: 0.8790\n",
      "Epoch 13/20\n",
      "8000/8000 [==============================] - 1s 160us/step - loss: 0.3147 - acc: 0.8802 - val_loss: 0.3809 - val_acc: 0.8680\n",
      "Epoch 14/20\n",
      "8000/8000 [==============================] - 1s 162us/step - loss: 0.3116 - acc: 0.8820 - val_loss: 0.3706 - val_acc: 0.8725\n",
      "Epoch 15/20\n",
      "8000/8000 [==============================] - 1s 163us/step - loss: 0.2915 - acc: 0.8905 - val_loss: 0.3812 - val_acc: 0.8650\n",
      "Epoch 16/20\n",
      "8000/8000 [==============================] - 1s 169us/step - loss: 0.2967 - acc: 0.8874 - val_loss: 0.3509 - val_acc: 0.8760\n",
      "Epoch 17/20\n",
      "8000/8000 [==============================] - 1s 170us/step - loss: 0.2970 - acc: 0.8845 - val_loss: 0.3450 - val_acc: 0.8795\n",
      "Epoch 18/20\n",
      "8000/8000 [==============================] - 1s 169us/step - loss: 0.2886 - acc: 0.8934 - val_loss: 0.3402 - val_acc: 0.8800\n",
      "Epoch 19/20\n",
      "8000/8000 [==============================] - 1s 160us/step - loss: 0.2848 - acc: 0.8941 - val_loss: 0.3380 - val_acc: 0.8815\n",
      "Epoch 20/20\n",
      "8000/8000 [==============================] - 1s 161us/step - loss: 0.2764 - acc: 0.8948 - val_loss: 0.3564 - val_acc: 0.8795\n"
     ]
    }
   ],
   "source": [
    "hist = model.fit(X,Y, epochs=20, shuffle=True, batch_size=64, validation_split=0.20)"
   ]
  },
  {
   "cell_type": "code",
   "execution_count": 29,
   "metadata": {},
   "outputs": [
    {
     "data": {
      "image/png": "[encoded data removed]",
      "text/plain": [
       "<Figure size 432x288 with 1 Axes>"
      ]
     },
     "metadata": {
      "needs_background": "light"
     },
     "output_type": "display_data"
    }
   ],
   "source": [
    "plt.plot(hist.history['val_loss'], color='blue')\n",
    "plt.plot(hist.history['acc'], color='black')\n",
    "plt.plot(hist.history['val_acc'], color='pink')\n",
    "plt.show()"
   ]
  },
  {
   "cell_type": "code",
   "execution_count": null,
   "metadata": {},
   "outputs": [],
   "source": []
  }
 ],
 "metadata": {
  "kernelspec": {
   "display_name": "Python 3",
   "language": "python",
   "name": "python3"
  },
  "language_info": {
   "codemirror_mode": {
    "name": "ipython",
    "version": 3
   },
   "file_extension": ".py",
   "mimetype": "text/x-python",
   "name": "python",
   "nbconvert_exporter": "python",
   "pygments_lexer": "ipython3",
   "version": "3.6.8"
  }
 },
 "nbformat": 4,
 "nbformat_minor": 2
}
