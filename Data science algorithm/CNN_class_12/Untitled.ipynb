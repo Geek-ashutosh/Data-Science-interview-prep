{
 "cells": [
  {
   "cell_type": "code",
   "execution_count": 8,
   "metadata": {},
   "outputs": [],
   "source": [
    "import numpy as np\n",
    "import pandas as pd\n",
    "import matplotlib.pyplot as plt\n",
    "from keras.models import Sequential\n",
    "from keras.layers import Dense,Conv2D,MaxPooling2D,Flatten,Dropout\n",
    "from keras.optimizers import Adam\n",
    "from keras.utils import np_utils\n"
   ]
  },
  {
   "cell_type": "code",
   "execution_count": 9,
   "metadata": {},
   "outputs": [
    {
     "name": "stdout",
     "output_type": "stream",
     "text": [
      "(10000, 28, 28, 1) (10000, 10)\n"
     ]
    }
   ],
   "source": [
    "data=pd.read_csv('fashion-mnist_test.csv')\n",
    "x=data.values\n",
    "X=x[:,1:]\n",
    "y=x[:,0]\n",
    "X=X/255.0\n",
    "X = X.reshape((-1,28,28,1))\n",
    "y = np_utils.to_categorical(y)\n",
    "print (X.shape, y.shape)"
   ]
  },
  {
   "cell_type": "code",
   "execution_count": 3,
   "metadata": {},
   "outputs": [
    {
     "name": "stderr",
     "output_type": "stream",
     "text": [
      "WARNING: Logging before flag parsing goes to stderr.\n",
      "W0714 09:48:09.626137 139624826849088 deprecation_wrapper.py:119] From /home/inderpreet/.local/lib/python3.6/site-packages/keras/backend/tensorflow_backend.py:74: The name tf.get_default_graph is deprecated. Please use tf.compat.v1.get_default_graph instead.\n",
      "\n",
      "W0714 09:48:09.635484 139624826849088 deprecation_wrapper.py:119] From /home/inderpreet/.local/lib/python3.6/site-packages/keras/backend/tensorflow_backend.py:517: The name tf.placeholder is deprecated. Please use tf.compat.v1.placeholder instead.\n",
      "\n",
      "W0714 09:48:09.637090 139624826849088 deprecation_wrapper.py:119] From /home/inderpreet/.local/lib/python3.6/site-packages/keras/backend/tensorflow_backend.py:4138: The name tf.random_uniform is deprecated. Please use tf.random.uniform instead.\n",
      "\n",
      "W0714 09:48:09.663052 139624826849088 deprecation_wrapper.py:119] From /home/inderpreet/.local/lib/python3.6/site-packages/keras/backend/tensorflow_backend.py:133: The name tf.placeholder_with_default is deprecated. Please use tf.compat.v1.placeholder_with_default instead.\n",
      "\n",
      "W0714 09:48:09.668760 139624826849088 deprecation.py:506] From /home/inderpreet/.local/lib/python3.6/site-packages/keras/backend/tensorflow_backend.py:3445: calling dropout (from tensorflow.python.ops.nn_ops) with keep_prob is deprecated and will be removed in a future version.\n",
      "Instructions for updating:\n",
      "Please use `rate` instead of `keep_prob`. Rate should be set to `rate = 1 - keep_prob`.\n",
      "W0714 09:48:09.683303 139624826849088 deprecation_wrapper.py:119] From /home/inderpreet/.local/lib/python3.6/site-packages/keras/backend/tensorflow_backend.py:3976: The name tf.nn.max_pool is deprecated. Please use tf.nn.max_pool2d instead.\n",
      "\n"
     ]
    },
    {
     "name": "stdout",
     "output_type": "stream",
     "text": [
      "_________________________________________________________________\n",
      "Layer (type)                 Output Shape              Param #   \n",
      "=================================================================\n",
      "conv2d_1 (Conv2D)            (None, 26, 26, 16)        160       \n",
      "_________________________________________________________________\n",
      "conv2d_2 (Conv2D)            (None, 24, 24, 32)        4640      \n",
      "_________________________________________________________________\n",
      "dropout_1 (Dropout)          (None, 24, 24, 32)        0         \n",
      "_________________________________________________________________\n",
      "max_pooling2d_1 (MaxPooling2 (None, 12, 12, 32)        0         \n",
      "_________________________________________________________________\n",
      "conv2d_3 (Conv2D)            (None, 10, 10, 64)        18496     \n",
      "_________________________________________________________________\n",
      "conv2d_4 (Conv2D)            (None, 8, 8, 32)          18464     \n",
      "_________________________________________________________________\n",
      "dropout_2 (Dropout)          (None, 8, 8, 32)          0         \n",
      "_________________________________________________________________\n",
      "max_pooling2d_2 (MaxPooling2 (None, 4, 4, 32)          0         \n",
      "_________________________________________________________________\n",
      "conv2d_5 (Conv2D)            (None, 2, 2, 64)          18496     \n",
      "_________________________________________________________________\n",
      "flatten_1 (Flatten)          (None, 256)               0         \n",
      "_________________________________________________________________\n",
      "dense_1 (Dense)              (None, 64)                16448     \n",
      "_________________________________________________________________\n",
      "dense_2 (Dense)              (None, 10)                650       \n",
      "=================================================================\n",
      "Total params: 77,354\n",
      "Trainable params: 77,354\n",
      "Non-trainable params: 0\n",
      "_________________________________________________________________\n"
     ]
    }
   ],
   "source": [
    "model=Sequential()\n",
    "\n",
    "model.add(Conv2D(16,(3,3),activation='relu',input_shape=(28,28,1)))\n",
    "\n",
    "model.add(Conv2D(32,(3,3),activation='relu'))\n",
    "model.add(Dropout(0.5))\n",
    "model.add(MaxPooling2D(2,2))\n",
    "\n",
    "\n",
    "model.add(Conv2D(64,(3,3),activation='relu'))\n",
    "\n",
    "model.add(Conv2D(32,(3,3),activation='relu'))\n",
    "model.add(Dropout(0.5))\n",
    "model.add(MaxPooling2D(2,2))\n",
    "\n",
    "model.add(Conv2D(64,(3,3),activation='relu'))\n",
    "model.add(Flatten())\n",
    "model.add(Dense(64, activation='relu'))\n",
    "model.add(Dense(10, activation='softmax'))\n",
    "\n",
    "model.summary()\n",
    "\n"
   ]
  },
  {
   "cell_type": "code",
   "execution_count": 15,
   "metadata": {},
   "outputs": [],
   "source": [
    "adam=Adam(decay=0.001,lr=0.01)"
   ]
  },
  {
   "cell_type": "code",
   "execution_count": 16,
   "metadata": {},
   "outputs": [],
   "source": [
    "model.compile(loss='categorical_crossentropy', optimizer=adam, metrics=['accuracy'])"
   ]
  },
  {
   "cell_type": "code",
   "execution_count": 17,
   "metadata": {},
   "outputs": [
    {
     "name": "stdout",
     "output_type": "stream",
     "text": [
      "Train on 8000 samples, validate on 2000 samples\n",
      "Epoch 1/10\n",
      "8000/8000 [==============================] - 5s 587us/step - loss: 0.6731 - acc: 0.7839 - val_loss: 0.7232 - val_acc: 0.7945\n",
      "Epoch 2/10\n",
      "8000/8000 [==============================] - 5s 621us/step - loss: 0.4574 - acc: 0.8305 - val_loss: 0.5000 - val_acc: 0.8515\n",
      "Epoch 3/10\n",
      "8000/8000 [==============================] - 5s 643us/step - loss: 0.4174 - acc: 0.8468 - val_loss: 0.5175 - val_acc: 0.8415\n",
      "Epoch 4/10\n",
      "8000/8000 [==============================] - 5s 655us/step - loss: 0.4000 - acc: 0.8524 - val_loss: 0.4865 - val_acc: 0.8410\n",
      "Epoch 5/10\n",
      "8000/8000 [==============================] - 4s 551us/step - loss: 0.3788 - acc: 0.8568 - val_loss: 0.4583 - val_acc: 0.8665\n",
      "Epoch 6/10\n",
      "8000/8000 [==============================] - 5s 615us/step - loss: 0.3540 - acc: 0.8665 - val_loss: 0.3994 - val_acc: 0.8725\n",
      "Epoch 7/10\n",
      "8000/8000 [==============================] - 5s 564us/step - loss: 0.3341 - acc: 0.8740 - val_loss: 0.3874 - val_acc: 0.8670\n",
      "Epoch 8/10\n",
      "8000/8000 [==============================] - 4s 532us/step - loss: 0.3267 - acc: 0.8784 - val_loss: 0.3860 - val_acc: 0.8685\n",
      "Epoch 9/10\n",
      "8000/8000 [==============================] - 4s 509us/step - loss: 0.2988 - acc: 0.8846 - val_loss: 0.3751 - val_acc: 0.8785\n",
      "Epoch 10/10\n",
      "8000/8000 [==============================] - 4s 505us/step - loss: 0.2767 - acc: 0.8898 - val_loss: 0.3821 - val_acc: 0.8775\n"
     ]
    }
   ],
   "source": [
    "hist = model.fit(X,y, epochs=10, shuffle=True, batch_size=64, validation_split=0.20)"
   ]
  },
  {
   "cell_type": "code",
   "execution_count": 7,
   "metadata": {},
   "outputs": [
    {
     "data": {
      "image/png": "[encoded data removed]",
      "text/plain": [
       "<Figure size 432x288 with 1 Axes>"
      ]
     },
     "metadata": {
      "needs_background": "light"
     },
     "output_type": "display_data"
    }
   ],
   "source": [
    "plt.plot(hist.history['loss'],color='red')\n",
    "plt.plot(hist.history['acc'],color='blue')\n",
    "plt.plot(hist.history['val_acc'],color='yellow')\n",
    "\n",
    "plt.show()"
   ]
  },
  {
   "cell_type": "code",
   "execution_count": null,
   "metadata": {},
   "outputs": [],
   "source": []
  }
 ],
 "metadata": {
  "kernelspec": {
   "display_name": "Python 3",
   "language": "python",
   "name": "python3"
  },
  "language_info": {
   "codemirror_mode": {
    "name": "ipython",
    "version": 3
   },
   "file_extension": ".py",
   "mimetype": "text/x-python",
   "name": "python",
   "nbconvert_exporter": "python",
   "pygments_lexer": "ipython3",
   "version": "3.6.8"
  }
 },
 "nbformat": 4,
 "nbformat_minor": 2
}
